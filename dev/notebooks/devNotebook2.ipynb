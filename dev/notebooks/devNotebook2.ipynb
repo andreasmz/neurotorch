{
 "cells": [
  {
   "cell_type": "code",
   "execution_count": 25,
   "metadata": {},
   "outputs": [],
   "source": [
    "import os, sys\n",
    "import numpy as np\n",
    "import matplotlib.pyplot as plt\n",
    "from matplotlib import cm\n",
    "from ipywidgets import interact, Button\n",
    "import ipywidgets as widgets\n",
    "import scipy.ndimage as ndimage\n",
    "from scipy.optimize import curve_fit\n",
    "from matplotlib.patches import Circle\n",
    "import xarray"
   ]
  },
  {
   "cell_type": "code",
   "execution_count": 2,
   "metadata": {},
   "outputs": [],
   "source": [
    "sys.path.insert(1, os.path.join(os.path.join(os.path.abspath(\"\"), os.pardir), os.pardir))\n",
    "import neurotorch as neuro\n",
    "neuro.Start_Background()\n",
    "%matplotlib inline"
   ]
  },
  {
   "cell_type": "code",
   "execution_count": 4,
   "metadata": {},
   "outputs": [
    {
     "name": "stdout",
     "output_type": "stream",
     "text": [
      "[101 110 120 130 140 160 170 180 190]\n",
      "((118, 105), r=6, f=\n",
      "((146, 118), r=6, f=\n",
      "((433, 123), r=6, f=\n",
      "((237, 135), r=6, f=\n",
      "((439, 158), r=6, f=\n"
     ]
    }
   ],
   "source": [
    "frames = neuro.API.Peaks()\n",
    "print(frames)\n",
    "synapses = neuro.API.DetectedSynapses()\n",
    "for s in synapses:\n",
    "    print(s.GetUniqueName())"
   ]
  },
  {
   "cell_type": "code",
   "execution_count": 44,
   "metadata": {},
   "outputs": [
    {
     "data": {
      "image/png": "[encoded data removed]",
      "text/plain": [
       "<Figure size 640x480 with 1 Axes>"
      ]
     },
     "metadata": {},
     "output_type": "display_data"
    },
    {
     "data": {
      "application/vnd.jupyter.widget-view+json": {
       "model_id": "d43d1f9580d84e74923d1dde4863624d",
       "version_major": 2,
       "version_minor": 0
      },
      "text/plain": [
       "interactive(children=(IntSlider(value=0, description='peak', max=8), Output()), _dom_classes=('widget-interact…"
      ]
     },
     "metadata": {},
     "output_type": "display_data"
    },
    {
     "data": {
      "text/plain": [
       "<function __main__.Plot(peak)>"
      ]
     },
     "execution_count": 44,
     "metadata": {},
     "output_type": "execute_result"
    }
   ],
   "source": [
    "# Synapse 4 (237,135)\n",
    "loc = synapses[1].location\n",
    "bbox = (loc[0]-30, loc[1]-25, loc[0]+30, loc[1]+25) # (X0, Y0, X1, Y1)\n",
    "plt.imshow(neuro.API_IMG().imgDiffMaxTime[bbox[1]:bbox[3],bbox[0]:bbox[2]])\n",
    "plt.show()\n",
    "\n",
    "_diffMax = np.max(neuro.API_IMG().imgDiff)\n",
    "\n",
    "def gaus(x,a,x0,sigma):\n",
    "    return a*np.exp(-(x-x0)**2/(2*sigma**2))\n",
    "\n",
    "def Plot(peak):\n",
    "    global _diffMax, frames, xsclice, ysclice\n",
    "    fig = plt.figure(figsize=(13,5))\n",
    "    ax1 = fig.add_subplot(131)\n",
    "    ax2 = fig.add_subplot(132)\n",
    "    ax3 = fig.add_subplot(133)\n",
    "    img = neuro.API_IMG().imgDiff[frames[peak], bbox[1]:bbox[3], bbox[0]:bbox[2]]\n",
    "    xsclice = np.max(img, axis=0)\n",
    "    xsclice_X = range(len(xsclice))\n",
    "    ysclice = np.max(img, axis=1)\n",
    "    ysclice_X = range(len(ysclice))\n",
    "    ax1.imshow(img, vmin=0, vmax=_diffMax)\n",
    "    ax2.plot(xsclice)\n",
    "    ax3.plot(ysclice)\n",
    "\n",
    "    try:\n",
    "        poptX,pcovX = curve_fit(gaus, xsclice_X, xsclice, p0=(1,30,1))\n",
    "        pstdX = np.sqrt(np.diag(pcovX))\n",
    "        fitXSlice_Y = gaus(xsclice_X, *poptX)\n",
    "        ax2.set_title(f\"X Slice\\nx= {round(poptX[1],2)} ± {round(pstdX[1],2)}, σ = {round(poptX[2],2)} ± {round(pstdX[2],2)}\")\n",
    "        ax2.plot(fitXSlice_Y)\n",
    "    except RuntimeError:\n",
    "        print(\"X Fit not possible\")\n",
    "    \n",
    "    try:\n",
    "        poptY,pcovY = curve_fit(gaus, ysclice_X, ysclice, p0=(1,30,1))\n",
    "        pstdY = np.sqrt(np.diag(pcovY))\n",
    "        fitYSlice_Y = gaus(ysclice_X, *poptY)\n",
    "        ax3.set_title(f\"Y Slice\\ny= {round(poptY[1],2)} ± {round(pstdY[1],2)}, σ = {round(poptY[2],2)} ± {round(pstdY[2],2)}\")\n",
    "        ax3.plot(fitYSlice_Y)\n",
    "    except RuntimeError:\n",
    "        print(\"Y Fit not possible\")\n",
    "\n",
    "    if 'poptY' in locals() and 'poptX' in locals():\n",
    "        gaussCenter = (poptX[1], poptY[1])\n",
    "        c = Circle(gaussCenter, 1, color=\"red\", fill=False)\n",
    "        ax1.add_patch(c)\n",
    "        \n",
    "    plt.show()\n",
    "\n",
    "interact(Plot, peak=widgets.IntSlider(min=0, max=len(frames)-1))\n"
   ]
  },
  {
   "cell_type": "code",
   "execution_count": null,
   "metadata": {},
   "outputs": [],
   "source": []
  }
 ],
 "metadata": {
  "kernelspec": {
   "display_name": "Python 3",
   "language": "python",
   "name": "python3"
  },
  "language_info": {
   "codemirror_mode": {
    "name": "ipython",
    "version": 3
   },
   "file_extension": ".py",
   "mimetype": "text/x-python",
   "name": "python",
   "nbconvert_exporter": "python",
   "pygments_lexer": "ipython3",
   "version": "3.12.4"
  }
 },
 "nbformat": 4,
 "nbformat_minor": 2
}
