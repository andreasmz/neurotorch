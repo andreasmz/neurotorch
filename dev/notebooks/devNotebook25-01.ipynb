{
 "cells": [
  {
   "cell_type": "code",
   "execution_count": 1,
   "metadata": {},
   "outputs": [],
   "source": [
    "import matplotlib.pyplot as plt\n",
    "from scipy import ndimage as ndi\n",
    "from skimage.feature import peak_local_max\n",
    "from skimage.segmentation import expand_labels\n",
    "from skimage.measure import label\n",
    "import skimage\n",
    "import numpy as np\n",
    "import os,sys "
   ]
  },
  {
   "cell_type": "code",
   "execution_count": 2,
   "metadata": {},
   "outputs": [
    {
     "name": "stdout",
     "output_type": "stream",
     "text": [
      "d:\\Eigene Datein\\Programmieren\\Git\\abrilka\\neurotorch\n",
      "25.1.1_Dev\n"
     ]
    }
   ],
   "source": [
    "path = os.path.abspath(os.path.join(os.path.join(os.path.abspath(\"\"), os.pardir), os.pardir))\n",
    "print(path)\n",
    "sys.path.insert(1,path)\n",
    "import neurotorchmz\n",
    "from neurotorchmz.utils.image import ImgObj\n",
    "from neurotorchmz.utils.synapse_detection import *\n",
    "print(neurotorchmz.__version__)\n",
    "%matplotlib inline"
   ]
  },
  {
   "cell_type": "code",
   "execution_count": 4,
   "metadata": {},
   "outputs": [
    {
     "name": "stdout",
     "output_type": "stream",
     "text": [
      "179410705665 179439892854\n"
     ]
    }
   ],
   "source": [
    "synapse1 = SingleframeSynapse(CircularSynapseROI())\n",
    "synapse2 = SingleframeSynapse(CircularSynapseROI())\n",
    "print(hash(synapse1), hash(synapse2))"
   ]
  },
  {
   "cell_type": "code",
   "execution_count": 8,
   "metadata": {},
   "outputs": [
    {
     "name": "stdout",
     "output_type": "stream",
     "text": [
      "179410705665 179439892854\n"
     ]
    }
   ],
   "source": [
    "print(hash(synapse1), hash(synapse2))"
   ]
  },
  {
   "cell_type": "code",
   "execution_count": 27,
   "metadata": {},
   "outputs": [],
   "source": [
    "synapse1.synapse = PolygonalSynapseROI().SetLocation(23,45)\n",
    "synapse2.name = \"Test\""
   ]
  },
  {
   "cell_type": "code",
   "execution_count": 29,
   "metadata": {},
   "outputs": [
    {
     "data": {
      "text/plain": [
       "'1c93dbfd-150e-444e-aea4-2afdf455f0ed'"
      ]
     },
     "execution_count": 29,
     "metadata": {},
     "output_type": "execute_result"
    }
   ],
   "source": [
    "synapse1.uuid"
   ]
  },
  {
   "cell_type": "code",
   "execution_count": 10,
   "metadata": {},
   "outputs": [
    {
     "data": {
      "text/plain": [
       "{<neurotorchmz.utils.synapse_detection.SingleframeSynapse at 0x29c5b61d010>,\n",
       " <neurotorchmz.utils.synapse_detection.SingleframeSynapse at 0x29c77379760>}"
      ]
     },
     "execution_count": 10,
     "metadata": {},
     "output_type": "execute_result"
    }
   ],
   "source": [
    "s = set([synapse1, synapse1.SetSynapse(CircularSynapseROI()), synapse2])\n",
    "s"
   ]
  }
 ],
 "metadata": {
  "kernelspec": {
   "display_name": "neurotorch",
   "language": "python",
   "name": "python3"
  },
  "language_info": {
   "codemirror_mode": {
    "name": "ipython",
    "version": 3
   },
   "file_extension": ".py",
   "mimetype": "text/x-python",
   "name": "python",
   "nbconvert_exporter": "python",
   "pygments_lexer": "ipython3",
   "version": "3.12.7"
  }
 },
 "nbformat": 4,
 "nbformat_minor": 2
}
