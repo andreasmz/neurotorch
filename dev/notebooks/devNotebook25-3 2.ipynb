{
 "cells": [
  {
   "cell_type": "code",
   "execution_count": null,
   "metadata": {},
   "outputs": [],
   "source": [
    "from pathlib import Path\n",
    "import sys\n",
    "import gc\n",
    "sys.path.insert(1, nt_path := str((Path(\"\").resolve().parent.parent).resolve()))\n",
    "import neurotorchmz\n",
    "import time\n",
    "print(nt_path)\n",
    "print(neurotorchmz.__version__)\n",
    "session = neurotorchmz.Start_Background(edition=neurotorchmz.Edition.NEUROTORCH_DEBUG)\n",
    "from neurotorchmz.core.session import *"
   ]
  },
  {
   "cell_type": "code",
   "execution_count": null,
   "metadata": {},
   "outputs": [],
   "source": [
    "t = session.api.open_file(Path(r\"D:\\Eigene Datein\\Programmieren\\PYTHON\\AG Heine Hiwi\\Daten\\control_R2-3.nd2\"))"
   ]
  },
  {
   "cell_type": "code",
   "execution_count": null,
   "metadata": {},
   "outputs": [],
   "source": [
    "t = session.api.open_file(Path(r\"D:\\Eigene Datein\\Programmieren\\PYTHON\\AG Heine Hiwi\\Daten\\+40118_CS1-2_37a+47_iGlu_denoised.tif\"))"
   ]
  },
  {
   "cell_type": "code",
   "execution_count": null,
   "metadata": {},
   "outputs": [],
   "source": [
    "session.active_image_object._tiffmetadata"
   ]
  },
  {
   "cell_type": "code",
   "execution_count": null,
   "metadata": {},
   "outputs": [],
   "source": [
    "session.api.open_file(Path(r\"D:\\Eigene Datein\\Programmieren\\PYTHON\\AG Heine Hiwi\\Daten\\control_R2-3.nd2\"))"
   ]
  },
  {
   "cell_type": "code",
   "execution_count": null,
   "metadata": {},
   "outputs": [],
   "source": [
    "_nd2metadata = session.active_image_object._nd2metadata"
   ]
  },
  {
   "cell_type": "code",
   "execution_count": null,
   "metadata": {},
   "outputs": [],
   "source": [
    "_nd2um = session.active_image_object._nd2_um\n",
    "_nd2oem = session.active_image_object._nd2_oem"
   ]
  },
  {
   "cell_type": "code",
   "execution_count": null,
   "metadata": {},
   "outputs": [],
   "source": [
    "_nd2oem.instruments"
   ]
  },
  {
   "cell_type": "code",
   "execution_count": null,
   "metadata": {},
   "outputs": [],
   "source": [
    "for k, v in _nd2um.items():\n",
    "    print(k, type(v))"
   ]
  },
  {
   "cell_type": "code",
   "execution_count": null,
   "metadata": {},
   "outputs": [],
   "source": [
    "_nd2metadata.channels"
   ]
  },
  {
   "cell_type": "code",
   "execution_count": null,
   "metadata": {},
   "outputs": [],
   "source": [
    "\n",
    "\n",
    "task = Task()"
   ]
  },
  {
   "cell_type": "code",
   "execution_count": null,
   "metadata": {},
   "outputs": [],
   "source": [
    "img = session.active_image_object.img\n",
    "imgProps = session.active_image_object.imgProps\n",
    "imgObj = session.active_image_object\n",
    "img.shape"
   ]
  },
  {
   "cell_type": "code",
   "execution_count": null,
   "metadata": {},
   "outputs": [],
   "source": [
    "_img"
   ]
  },
  {
   "cell_type": "code",
   "execution_count": null,
   "metadata": {},
   "outputs": [],
   "source": [
    "for i, r in enumerate(gc.get_referrers(img)):\n",
    "    print(type(r))\n",
    "    if type(r) == dict and \"__doc__\" in r.keys() and r[\"__doc__\"] == \"Automatically created module for IPython interactive environment\":\n",
    "        pass\n",
    "    else:\n",
    "        print(r)\n",
    "    print(\"---\")"
   ]
  },
  {
   "cell_type": "code",
   "execution_count": null,
   "metadata": {},
   "outputs": [],
   "source": [
    "for i, r in enumerate(gc.get_referrers(imgProps._img)):\n",
    "    print(type(r))\n",
    "    if type(r) == dict and \"__doc__\" in r.keys() and r[\"__doc__\"] == \"Automatically created module for IPython interactive environment\":\n",
    "        pass\n",
    "    else:\n",
    "        print(r)\n",
    "    print(\"---\")"
   ]
  },
  {
   "cell_type": "code",
   "execution_count": null,
   "metadata": {},
   "outputs": [],
   "source": [
    "gc.get_referrers(img)[2]._img.shape"
   ]
  },
  {
   "cell_type": "code",
   "execution_count": null,
   "metadata": {},
   "outputs": [],
   "source": [
    "import gc\n",
    "\n",
    "if False:\n",
    "    for r in gc.get_referrers(signalObj):\n",
    "        print(r)\n",
    "        print(\"---\")\n",
    "    print(\"imgObj\")\n",
    "for r in gc.get_referrers(imgObj):\n",
    "    print(r)\n",
    "    print(\"---\")"
   ]
  },
  {
   "cell_type": "code",
   "execution_count": null,
   "metadata": {},
   "outputs": [],
   "source": [
    "r = gc.get_referrers(imgObj)[2]"
   ]
  },
  {
   "cell_type": "code",
   "execution_count": null,
   "metadata": {},
   "outputs": [],
   "source": [
    "del r"
   ]
  },
  {
   "cell_type": "code",
   "execution_count": null,
   "metadata": {},
   "outputs": [],
   "source": [
    "del signalObj"
   ]
  },
  {
   "cell_type": "code",
   "execution_count": null,
   "metadata": {},
   "outputs": [],
   "source": [
    "imgObj = 2"
   ]
  },
  {
   "cell_type": "code",
   "execution_count": null,
   "metadata": {},
   "outputs": [],
   "source": [
    "import gc\n",
    "gc.collect()"
   ]
  },
  {
   "cell_type": "code",
   "execution_count": null,
   "metadata": {},
   "outputs": [],
   "source": [
    "from pathlib import Path\n",
    "import neurotorchmz\n",
    "import time\n",
    "print(neurotorchmz.__version__)\n",
    "session = neurotorchmz.Start_Background(edition=neurotorchmz.Edition.NEUROTORCH_DEBUG)"
   ]
  },
  {
   "cell_type": "code",
   "execution_count": null,
   "metadata": {},
   "outputs": [],
   "source": [
    "gui = neurotorchmz.API.GUI\n",
    "imgObj = gui.ImageObject.img"
   ]
  },
  {
   "cell_type": "code",
   "execution_count": null,
   "metadata": {},
   "outputs": [],
   "source": [
    "def infinite_task(task:Task):\n",
    "    task.kill_thread = False\n",
    "    while not task.kill_thread:\n",
    "        time.sleep(5)\n",
    "\n",
    "def error_task(task:Task):\n",
    "    task.kill_thread = False\n",
    "    while not task.kill_thread:\n",
    "        time.sleep(5)\n",
    "    raise RuntimeError(\"Thread stopped\")\n",
    "\n",
    "def error_callback(ex: Exception):\n",
    "    print(f\"Error detect: {ex}\")\n",
    "\n",
    "def callback():\n",
    "    print(\"Callback\")"
   ]
  },
  {
   "cell_type": "code",
   "execution_count": null,
   "metadata": {},
   "outputs": [],
   "source": [
    "def test_task(task: Task):\n",
    "    task.set_step_mode(20)\n",
    "    for i in range(20):\n",
    "        task.set_step_progress(i, str(i))\n",
    "        time.sleep(1)\n",
    "task = Task(test_task, \"Test task\")\n",
    "task.start()"
   ]
  },
  {
   "cell_type": "code",
   "execution_count": null,
   "metadata": {},
   "outputs": [],
   "source": [
    "task.thread.is_alive()"
   ]
  },
  {
   "cell_type": "code",
   "execution_count": null,
   "metadata": {},
   "outputs": [],
   "source": [
    "task.kill_thread = True"
   ]
  },
  {
   "cell_type": "code",
   "execution_count": null,
   "metadata": {},
   "outputs": [],
   "source": [
    "task.func = error_task"
   ]
  },
  {
   "cell_type": "code",
   "execution_count": null,
   "metadata": {},
   "outputs": [],
   "source": [
    "task.state"
   ]
  },
  {
   "cell_type": "code",
   "execution_count": null,
   "metadata": {},
   "outputs": [],
   "source": [
    "task.error = None"
   ]
  },
  {
   "cell_type": "code",
   "execution_count": null,
   "metadata": {},
   "outputs": [],
   "source": [
    "task.start()"
   ]
  },
  {
   "cell_type": "code",
   "execution_count": null,
   "metadata": {},
   "outputs": [],
   "source": [
    "for thread in threading.enumerate(): \n",
    "    print(thread.name)"
   ]
  },
  {
   "cell_type": "code",
   "execution_count": null,
   "metadata": {},
   "outputs": [],
   "source": [
    "task_indeterminate = Task(infinite_task, \"Indeterminate task\")\n",
    "task_indeterminate._step_count = 0\n",
    "task_indeterminate.start()"
   ]
  },
  {
   "cell_type": "code",
   "execution_count": null,
   "metadata": {},
   "outputs": [],
   "source": [
    "task_indeterminate.kill_thread = True"
   ]
  },
  {
   "cell_type": "code",
   "execution_count": null,
   "metadata": {},
   "outputs": [],
   "source": [
    "\n",
    "task = Task(infinite_task, \"Test task\")\n",
    "task.start()\n"
   ]
  },
  {
   "cell_type": "code",
   "execution_count": null,
   "metadata": {},
   "outputs": [],
   "source": [
    "task.set_callback(callback)"
   ]
  },
  {
   "cell_type": "code",
   "execution_count": null,
   "metadata": {},
   "outputs": [],
   "source": [
    "task.kill_thread = True"
   ]
  },
  {
   "cell_type": "code",
   "execution_count": null,
   "metadata": {},
   "outputs": [],
   "source": [
    "task.set_step_progress(2, \":)\")"
   ]
  },
  {
   "cell_type": "code",
   "execution_count": null,
   "metadata": {},
   "outputs": [],
   "source": [
    "task = Task(error_task, \"Failing task\").set_indeterminate().start()"
   ]
  },
  {
   "cell_type": "code",
   "execution_count": null,
   "metadata": {},
   "outputs": [],
   "source": [
    "task.kill_thread = True"
   ]
  },
  {
   "cell_type": "code",
   "execution_count": null,
   "metadata": {},
   "outputs": [],
   "source": [
    "task.set_error_callback(error_callback)"
   ]
  },
  {
   "cell_type": "code",
   "execution_count": null,
   "metadata": {},
   "outputs": [],
   "source": [
    "def"
   ]
  },
  {
   "cell_type": "code",
   "execution_count": null,
   "metadata": {},
   "outputs": [],
   "source": [
    "Task.get_tasks()"
   ]
  },
  {
   "cell_type": "code",
   "execution_count": null,
   "metadata": {},
   "outputs": [],
   "source": [
    "task.start()"
   ]
  },
  {
   "cell_type": "code",
   "execution_count": null,
   "metadata": {},
   "outputs": [],
   "source": [
    "session.window.statusbar.varProgMain.set(12)"
   ]
  },
  {
   "cell_type": "code",
   "execution_count": null,
   "metadata": {},
   "outputs": [],
   "source": [
    "print([t for t in Task.get_active_tasks() if t.time_since_start >= 0.5][0].set_indeterminate())"
   ]
  },
  {
   "cell_type": "code",
   "execution_count": null,
   "metadata": {},
   "outputs": [],
   "source": [
    "t = [t for t in Task.get_active_tasks() if t.time_since_start >= 0.5][0].thread\n",
    "t."
   ]
  },
  {
   "cell_type": "code",
   "execution_count": null,
   "metadata": {},
   "outputs": [],
   "source": [
    "import threading\n",
    "import time\n",
    "\n",
    "def test():\n",
    "    print(\"Start\")\n",
    "    time.sleep(4)\n",
    "    print(\"End\")\n",
    "\n",
    "t = threading.Thread(target=test)\n",
    "print(t.is_alive())\n",
    "t.start()\n",
    "print(t.is_alive())"
   ]
  }
 ],
 "metadata": {
  "kernelspec": {
   "display_name": "neurotorch",
   "language": "python",
   "name": "python3"
  },
  "language_info": {
   "codemirror_mode": {
    "name": "ipython",
    "version": 3
   },
   "file_extension": ".py",
   "mimetype": "text/x-python",
   "name": "python",
   "nbconvert_exporter": "python",
   "pygments_lexer": "ipython3",
   "version": "3.12.7"
  }
 },
 "nbformat": 4,
 "nbformat_minor": 2
}
