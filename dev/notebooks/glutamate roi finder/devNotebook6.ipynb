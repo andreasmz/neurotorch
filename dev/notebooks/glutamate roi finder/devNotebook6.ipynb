{
 "cells": [
  {
   "cell_type": "markdown",
   "metadata": {},
   "source": [
    "# Glutamate ROI Finder Dev Notebook 6\n",
    "Created 12.08.24 <br>\n",
    "Topic: Gaussian fit to images"
   ]
  },
  {
   "cell_type": "code",
   "execution_count": null,
   "metadata": {},
   "outputs": [],
   "source": [
    "import os, sys\n",
    "import numpy as np\n",
    "\n",
    "glutamate_roi_finder_Path = os.path.join(os.path.join(os.path.abspath(\"\"), os.pardir), os.pardir)\n",
    "sys.path.insert(1, glutamate_roi_finder_Path)\n",
    "import glutamate_roi_finder as grf\n",
    "%matplotlib inline  "
   ]
  },
  {
   "cell_type": "code",
   "execution_count": null,
   "metadata": {},
   "outputs": [],
   "source": [
    "grf.Start_Background()"
   ]
  },
  {
   "cell_type": "code",
   "execution_count": null,
   "metadata": {},
   "outputs": [],
   "source": [
    "mean = np.mean(grf.API_IMG().imgDiffMaxTime) \n",
    "var = np.std(grf.API_IMG().imgDiffMaxTime)\n",
    "print(mean, var)\n",
    "print(mean + 2*var)\n",
    "prop = (np.abs(grf.API_IMG().imgDiffMaxTime.flatten() - mean) < var).sum()/len(grf.API_IMG().imgDiffMaxTime.flatten())\n",
    "print(prop)"
   ]
  },
  {
   "cell_type": "code",
   "execution_count": null,
   "metadata": {},
   "outputs": [],
   "source": [
    "import matplotlib.pyplot as plt\n",
    "plt.ecdf(grf.API_IMG().imgDiffMaxTime.flatten())\n",
    "plt.show()"
   ]
  },
  {
   "cell_type": "code",
   "execution_count": null,
   "metadata": {},
   "outputs": [],
   "source": [
    "grf.window.GUI.ijthread.is_alive()"
   ]
  },
  {
   "cell_type": "code",
   "execution_count": null,
   "metadata": {},
   "outputs": [],
   "source": [
    "oroi = grf.window.GUI.OvalRoi(50,250,10,10)\n",
    "oroi.setName(\"Roi 2\")"
   ]
  },
  {
   "cell_type": "code",
   "execution_count": null,
   "metadata": {},
   "outputs": [],
   "source": [
    "grf.window.GUI.ij.py.run_macro(\"roiManager('show all');\")"
   ]
  },
  {
   "cell_type": "code",
   "execution_count": null,
   "metadata": {},
   "outputs": [],
   "source": [
    "#rm = grf.window.GUI.ij.RoiManager\n",
    "from scyjava import jimport\n",
    "rm = jimport('ij.plugin.frame.RoiManager')"
   ]
  },
  {
   "cell_type": "code",
   "execution_count": null,
   "metadata": {},
   "outputs": [],
   "source": [
    "wm = grf.window.GUI.ij.WindowManager"
   ]
  },
  {
   "cell_type": "code",
   "execution_count": null,
   "metadata": {},
   "outputs": [],
   "source": [
    "_rm = rm()\n",
    "\n"
   ]
  },
  {
   "cell_type": "code",
   "execution_count": null,
   "metadata": {},
   "outputs": [],
   "source": [
    "grf.window.GUI.RM.addRoi(oroi)"
   ]
  },
  {
   "cell_type": "code",
   "execution_count": null,
   "metadata": {},
   "outputs": [],
   "source": [
    "grf.window.GUI.RM.close()"
   ]
  },
  {
   "cell_type": "code",
   "execution_count": null,
   "metadata": {},
   "outputs": [],
   "source": [
    "grf.window.GUI.IMG.imgDiff.shape"
   ]
  },
  {
   "cell_type": "code",
   "execution_count": null,
   "metadata": {},
   "outputs": [],
   "source": [
    "RM = grf.window.GUI.RM()"
   ]
  },
  {
   "cell_type": "code",
   "execution_count": null,
   "metadata": {},
   "outputs": [],
   "source": [
    "import matplotlib.pyplot as plt\n",
    "\n",
    "imgMasked, n = grf.window.GUI.IMG.GetImgConv_At((146, 118), 6)\n",
    "_signal = np.sum(imgMasked, axis=(1,2))/n\n",
    "plt.imshow(imgMasked[60])\n",
    "plt.show()\n",
    "\n",
    "print(n)\n",
    "plt.plot(_signal)\n",
    "plt.show()"
   ]
  },
  {
   "cell_type": "code",
   "execution_count": null,
   "metadata": {},
   "outputs": [],
   "source": [
    "radius = 6\n",
    "x = np.arange(-100, +100+1)\n",
    "y = np.arange(-100, +100+1)\n",
    "mask = np.array((x[np.newaxis,:])**2 + (y[:,np.newaxis])**2 <= radius**2, dtype=\"int32\")\n",
    "print(mask)"
   ]
  },
  {
   "cell_type": "code",
   "execution_count": null,
   "metadata": {},
   "outputs": [],
   "source": [
    "print(grf.window.GUI.ROI_IMG.rois)"
   ]
  },
  {
   "cell_type": "code",
   "execution_count": null,
   "metadata": {},
   "outputs": [],
   "source": [
    "point = (400, 118)\n",
    "radius = 20\n",
    "x = np.arange(0, grf.window.GUI.IMG.imgDiff.shape[2])\n",
    "y = np.arange(0, grf.window.GUI.IMG.imgDiff.shape[1])\n",
    "mask = np.array((x[np.newaxis,:] - point[0])**2 + (y[:,np.newaxis] - point[1])**2 <= radius**2, dtype=\"int32\")\n",
    "n = np.count_nonzero(mask==1)\n",
    "plt.imshow(mask)\n",
    "plt.show()"
   ]
  },
  {
   "cell_type": "code",
   "execution_count": null,
   "metadata": {},
   "outputs": [],
   "source": []
  },
  {
   "cell_type": "code",
   "execution_count": null,
   "metadata": {},
   "outputs": [],
   "source": [
    "print(api.gui.detectDiff.imgDiff.shape)\n",
    "imgDiffTimeMax = np.max(gui.detectDiff.imgDiff,axis=(1,2))\n",
    "print(imgDiffTimeMax.shape)"
   ]
  },
  {
   "cell_type": "markdown",
   "metadata": {},
   "source": [
    "Test for tkinter thread"
   ]
  },
  {
   "cell_type": "code",
   "execution_count": null,
   "metadata": {},
   "outputs": [],
   "source": [
    "import tkinter as tk\n",
    "import threading\n",
    "def GUI():\n",
    "    root = tk.Tk()\n",
    "    root.title(\"Glutamte Image ROI Detector\")\n",
    "    root.mainloop()\n",
    "\n",
    "class MyProg1:\n",
    "    def GUI(self):\n",
    "        root = tk.Tk()\n",
    "        root.title(\"Glutamte Image ROI Detector\")\n",
    "        root.mainloop()\n",
    "\n",
    "class MyProg2:\n",
    "    def GUI(self):\n",
    "        global root\n",
    "        root = tk.Tk()\n",
    "        root.title(\"Glutamte Image ROI Detector\")\n",
    "        root.mainloop()\n",
    "\n",
    "class MyProg3:\n",
    "    def GUI(self):\n",
    "        self.root = tk.Tk()\n",
    "        self.root.title(\"Glutamte Image ROI Detector\")\n",
    "        self.root.mainloop()\n",
    "\n",
    "gui1 = MyProg1()\n",
    "gui2 = MyProg2()\n",
    "gui3 = MyProg3()\n"
   ]
  },
  {
   "cell_type": "code",
   "execution_count": null,
   "metadata": {},
   "outputs": [],
   "source": []
  },
  {
   "cell_type": "code",
   "execution_count": null,
   "metadata": {},
   "outputs": [],
   "source": [
    "task = threading.Thread(target=gui2.GUI)\n",
    "task.start()"
   ]
  },
  {
   "cell_type": "code",
   "execution_count": null,
   "metadata": {},
   "outputs": [],
   "source": [
    "gui.GUI()"
   ]
  },
  {
   "cell_type": "code",
   "execution_count": null,
   "metadata": {},
   "outputs": [],
   "source": [
    "task = threading.Thread(target=gui1.GUI)\n",
    "task.start()"
   ]
  },
  {
   "cell_type": "code",
   "execution_count": null,
   "metadata": {},
   "outputs": [],
   "source": [
    "import tkinter as tk\n",
    "import threading\n",
    "class MyProg3:\n",
    "    def GUI(self):\n",
    "        self.root = tk.Tk()\n",
    "        self.root.title(\"Glutamte Image ROI Detector\")\n",
    "        self.root.mainloop()\n",
    "\n",
    "gui3 = MyProg3()"
   ]
  },
  {
   "cell_type": "code",
   "execution_count": null,
   "metadata": {},
   "outputs": [],
   "source": [
    "str(gui3.root)"
   ]
  },
  {
   "cell_type": "code",
   "execution_count": null,
   "metadata": {},
   "outputs": [],
   "source": [
    "task3 = threading.Thread(target=gui3.GUI)\n",
    "task3.start()"
   ]
  },
  {
   "cell_type": "code",
   "execution_count": null,
   "metadata": {},
   "outputs": [],
   "source": [
    "gui3.root"
   ]
  },
  {
   "cell_type": "code",
   "execution_count": null,
   "metadata": {},
   "outputs": [],
   "source": [
    "task3.start()"
   ]
  },
  {
   "cell_type": "code",
   "execution_count": null,
   "metadata": {},
   "outputs": [],
   "source": [
    "task3.is_alive()"
   ]
  },
  {
   "cell_type": "code",
   "execution_count": null,
   "metadata": {},
   "outputs": [],
   "source": [
    "gui3.root"
   ]
  },
  {
   "cell_type": "code",
   "execution_count": null,
   "metadata": {},
   "outputs": [],
   "source": [
    "task5 = threading.Thread(target=gui3.GUI)\n",
    "task5.start()"
   ]
  },
  {
   "cell_type": "code",
   "execution_count": null,
   "metadata": {},
   "outputs": [],
   "source": [
    "task4 = threading.Thread(target=gui3.GUI)\n",
    "task4.start()"
   ]
  }
 ],
 "metadata": {
  "kernelspec": {
   "display_name": "Python 3",
   "language": "python",
   "name": "python3"
  },
  "language_info": {
   "codemirror_mode": {
    "name": "ipython",
    "version": 3
   },
   "file_extension": ".py",
   "mimetype": "text/x-python",
   "name": "python",
   "nbconvert_exporter": "python",
   "pygments_lexer": "ipython3",
   "version": "3.12.4"
  }
 },
 "nbformat": 4,
 "nbformat_minor": 2
}
