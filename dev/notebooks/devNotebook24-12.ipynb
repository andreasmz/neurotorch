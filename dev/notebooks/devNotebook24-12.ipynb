{
 "cells": [
  {
   "cell_type": "markdown",
   "metadata": {},
   "source": [
    "## Dev Notebook Dez. 2024"
   ]
  },
  {
   "cell_type": "code",
   "execution_count": null,
   "metadata": {},
   "outputs": [],
   "source": [
    "import matplotlib.pyplot as plt\n",
    "from scipy import ndimage as ndi\n",
    "from skimage.feature import peak_local_max\n",
    "from skimage.segmentation import expand_labels\n",
    "from skimage.measure import label\n",
    "import skimage\n",
    "import numpy as np\n",
    "import os,sys "
   ]
  },
  {
   "cell_type": "code",
   "execution_count": null,
   "metadata": {},
   "outputs": [],
   "source": [
    "path = os.path.abspath(os.path.join(os.path.join(os.path.abspath(\"\"), os.pardir), os.pardir))\n",
    "print(path)\n",
    "sys.path.insert(1,path)\n",
    "import neurotorchmz\n",
    "from neurotorchmz.utils.image import ImgObj\n",
    "from neurotorchmz.utils.synapse_detection import *\n",
    "print(neurotorchmz.__version__)\n",
    "%matplotlib inline"
   ]
  },
  {
   "cell_type": "code",
   "execution_count": null,
   "metadata": {},
   "outputs": [],
   "source": [
    "neurotorchmz.Start_Background(neurotorchmz.Edition.NEUROTORCH_DEBUG)\n",
    "print(neurotorchmz.__version__)"
   ]
  },
  {
   "cell_type": "code",
   "execution_count": null,
   "metadata": {},
   "outputs": [],
   "source": [
    "neurotorchmz.API.GUI.ijH.OpenRoiManager()\n",
    "rm = neurotorchmz.API.gui.ijH.RM"
   ]
  },
  {
   "cell_type": "code",
   "execution_count": null,
   "metadata": {},
   "outputs": [],
   "source": [
    "rois = rm.getRoisAsArray()"
   ]
  },
  {
   "cell_type": "code",
   "execution_count": null,
   "metadata": {},
   "outputs": [],
   "source": [
    "for i in range(len(rois)):\n",
    "    print(rois[i])"
   ]
  },
  {
   "cell_type": "code",
   "execution_count": null,
   "metadata": {},
   "outputs": [],
   "source": [
    "isinstance(rois[5], neurotorchmz.API.GUI.ijH.PolygonRoi)"
   ]
  },
  {
   "cell_type": "code",
   "execution_count": null,
   "metadata": {},
   "outputs": [],
   "source": [
    "roi0 = rois[0]"
   ]
  },
  {
   "cell_type": "code",
   "execution_count": null,
   "metadata": {},
   "outputs": [],
   "source": [
    "roi0.getXBase()"
   ]
  },
  {
   "cell_type": "code",
   "execution_count": null,
   "metadata": {},
   "outputs": [],
   "source": [
    "for i in range(len(rois)):\n",
    "    roi = rois[i]\n",
    "    print(roi.getName())"
   ]
  },
  {
   "cell_type": "code",
   "execution_count": null,
   "metadata": {},
   "outputs": [],
   "source": [
    "def OvalROIIJ_ToCircularROI(roi):\n",
    "    x,y = roi.getXBase(), roi.getYBase()\n",
    "    h,w = roi.getFloatHeight(), roi.getFloatWidth()\n",
    "    r = (h+w)/4-1/2\n",
    "    center = (x + (w-1)/2, y + (h-1)/2)\n",
    "    return CircularSynapseROI().SetLocation(int(round(center[0],0)), int(round(center[1], 0))).SetRadius(r)"
   ]
  },
  {
   "cell_type": "code",
   "execution_count": 4,
   "metadata": {},
   "outputs": [
    {
     "name": "stdout",
     "output_type": "stream",
     "text": [
      "1 0\n"
     ]
    }
   ],
   "source": [
    "for (x,y) in [(1,0)]:\n",
    "    print(x,y)"
   ]
  }
 ],
 "metadata": {
  "kernelspec": {
   "display_name": "neurotorch",
   "language": "python",
   "name": "python3"
  },
  "language_info": {
   "codemirror_mode": {
    "name": "ipython",
    "version": 3
   },
   "file_extension": ".py",
   "mimetype": "text/x-python",
   "name": "python",
   "nbconvert_exporter": "python",
   "pygments_lexer": "ipython3",
   "version": "3.12.7"
  }
 },
 "nbformat": 4,
 "nbformat_minor": 2
}
