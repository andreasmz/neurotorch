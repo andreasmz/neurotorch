{
 "cells": [
  {
   "cell_type": "code",
   "execution_count": 1,
   "metadata": {},
   "outputs": [],
   "source": [
    "import os, sys\n",
    "import numpy as np\n",
    "import matplotlib.pyplot as plt\n",
    "from matplotlib import cm\n",
    "from ipywidgets import interact, Button\n",
    "import ipywidgets as widgets\n",
    "import scipy.ndimage as ndimage\n",
    "from scipy.optimize import curve_fit\n",
    "from matplotlib.patches import Circle\n",
    "import xarray\n",
    "import scipy as sp"
   ]
  },
  {
   "cell_type": "code",
   "execution_count": 2,
   "metadata": {},
   "outputs": [],
   "source": [
    "sys.path.insert(1, os.path.join(os.path.join(os.path.abspath(\"\"), os.pardir), os.pardir))\n",
    "import neurotorch as neuro\n",
    "neuro.Start_Background()\n",
    "%matplotlib inline"
   ]
  },
  {
   "cell_type": "code",
   "execution_count": null,
   "metadata": {},
   "outputs": [],
   "source": [
    "from neurotorch.gui.components import Job, JobState, Statusbar"
   ]
  },
  {
   "cell_type": "code",
   "execution_count": 3,
   "metadata": {},
   "outputs": [],
   "source": [
    "job = Job(10)\n",
    "neuro.API.GUI().statusbar._jobs.append(job)"
   ]
  },
  {
   "cell_type": "code",
   "execution_count": 17,
   "metadata": {},
   "outputs": [],
   "source": [
    "job2 = Job(5)\n",
    "neuro.API.GUI().statusbar._jobs.append(job2)"
   ]
  },
  {
   "cell_type": "code",
   "execution_count": 6,
   "metadata": {},
   "outputs": [],
   "source": [
    "job3 = Job(0)\n",
    "neuro.API.GUI().statusbar._jobs.append(job3)"
   ]
  },
  {
   "cell_type": "code",
   "execution_count": 15,
   "metadata": {},
   "outputs": [],
   "source": [
    "job2.SetProgress(5,\"Starting ImageJ\")"
   ]
  },
  {
   "cell_type": "code",
   "execution_count": 4,
   "metadata": {},
   "outputs": [],
   "source": [
    "job.SetStopped()"
   ]
  },
  {
   "cell_type": "code",
   "execution_count": 36,
   "metadata": {},
   "outputs": [],
   "source": [
    "job2.SetProgress(4, \"Calculating Diff\")"
   ]
  },
  {
   "cell_type": "code",
   "execution_count": null,
   "metadata": {},
   "outputs": [],
   "source": [
    "print(neuro.API.GUI().statusbar._jobs)"
   ]
  },
  {
   "cell_type": "code",
   "execution_count": 18,
   "metadata": {},
   "outputs": [],
   "source": [
    "neuro.API.GUI().statusbar._jobs[1].SetStopped(\"Stopped\")"
   ]
  },
  {
   "cell_type": "code",
   "execution_count": 32,
   "metadata": {},
   "outputs": [],
   "source": [
    "neuro.API.GUI().statusbar._jobs[0].steps = 10\n",
    "neuro.API.GUI().statusbar._jobs[0].showSteps = True"
   ]
  },
  {
   "cell_type": "code",
   "execution_count": 34,
   "metadata": {},
   "outputs": [],
   "source": [
    "neuro.API.GUI().statusbar._jobs[0].SetStopped()"
   ]
  },
  {
   "cell_type": "code",
   "execution_count": 1,
   "metadata": {},
   "outputs": [],
   "source": [
    "class TestClass:\n",
    "    def __init__(self):\n",
    "        self._prop = \"Hello World\"\n",
    "\n",
    "    @property\n",
    "    def Prop(self):\n",
    "        print(\"Abruf\")\n",
    "        return self._prop"
   ]
  },
  {
   "cell_type": "code",
   "execution_count": 2,
   "metadata": {},
   "outputs": [],
   "source": [
    "tc = TestClass()"
   ]
  },
  {
   "cell_type": "code",
   "execution_count": null,
   "metadata": {},
   "outputs": [],
   "source": []
  },
  {
   "cell_type": "code",
   "execution_count": null,
   "metadata": {},
   "outputs": [],
   "source": [
    "print(c)"
   ]
  },
  {
   "cell_type": "markdown",
   "metadata": {},
   "source": [
    "### Test of new Image Object"
   ]
  },
  {
   "cell_type": "code",
   "execution_count": 10,
   "metadata": {},
   "outputs": [],
   "source": [
    "imgObj = neuro.Get_API().ImageObject"
   ]
  },
  {
   "cell_type": "code",
   "execution_count": 16,
   "metadata": {},
   "outputs": [
    {
     "name": "stdout",
     "output_type": "stream",
     "text": [
      "Min 0 0\n",
      "Max 195 195\n",
      "Mean 7.8555351257324215 7.8555351257324215\n",
      "Median 5.0 5.0\n",
      "Std 10.796017422620801 10.796017422620801\n"
     ]
    }
   ],
   "source": [
    "print(\"Min\", np.min(imgObj.img), imgObj.imgProps.min)\n",
    "print(\"Max\", np.max(imgObj.img), imgObj.imgProps.max)\n",
    "print(\"Mean\", np.mean(imgObj.img), imgObj.imgProps.mean)\n",
    "print(\"Median\", np.median(imgObj.img), imgObj.imgProps.median)\n",
    "print(\"Std\", np.std(imgObj.img), imgObj.imgProps.std)"
   ]
  },
  {
   "cell_type": "code",
   "execution_count": 31,
   "metadata": {},
   "outputs": [
    {
     "name": "stdout",
     "output_type": "stream",
     "text": [
      "Image (20, 512, 512) (20, 512, 512)\n",
      "Images equal True\n",
      "Min 0 0\n",
      "Max 195 195\n",
      "Mean 7.8555351257324215 7.8555351257324215\n",
      "Median 5.0 5.0\n",
      "Std 10.796017422620801 10.796017422620801\n",
      "Passed: True\n",
      "--------------------------\n",
      "Image Spatial (512, 512) (512, 512)\n",
      "Images equal True\n",
      "Min 0 0\n",
      "Max 195 195\n",
      "Mean 8.884601593017578 8.884601593017578\n",
      "Median 6.0 6.0\n",
      "Std 12.36363423956587 12.36363423956587\n",
      "Passed: True\n",
      "--------------------------\n",
      "Image Spatial (512, 512) (512, 512)\n",
      "Images equal True\n",
      "Min 0 0\n",
      "Max 160 160\n",
      "Mean 7.367092132568359 7.367092132568359\n",
      "Median 5.0 5.0\n",
      "Std 10.32102685125854 10.32102685125854\n",
      "Passed: True\n",
      "--------------------------\n",
      "Image Spatial (512, 512) (512, 512)\n",
      "Images equal True\n",
      "Min 0.0 0.0\n",
      "Max 161.5 161.5\n",
      "Mean 7.855535125732421 7.855535125732421\n",
      "Median 5.35 5.35\n",
      "Std 10.75677793201929 10.75677793201929\n",
      "Passed: True\n",
      "--------------------------\n",
      "Image Spatial (512, 512) (512, 512)\n",
      "Images equal True\n",
      "Min 0.0 0.0\n",
      "Max 161.5 161.5\n",
      "Mean 7.764429092407227 7.764429092407227\n",
      "Median 5.0 5.0\n",
      "Std 10.538530937247865 10.538530937247865\n",
      "Passed: True\n",
      "--------------------------\n",
      "Image Spatial (512, 512) (512, 512)\n",
      "Images equal True\n",
      "Min 0.0 0.0\n",
      "Max 27.41254274962467 27.41254274962467\n",
      "Mean 0.46175019675087997 0.46175019675087997\n",
      "Median 0.39999999999999997 0.39999999999999997\n",
      "Std 0.7953033801983478 0.7953033801983478\n",
      "Passed: True\n",
      "--------------------------\n"
     ]
    }
   ],
   "source": [
    "def Test(name, img, imgProps, refImage):\n",
    "    print(name, img.shape, refImage.shape)\n",
    "    equal = (img == refImage).all()\n",
    "    print(\"Images equal\", equal)\n",
    "    min1, min2 = (np.min(img), imgProps.min)\n",
    "    max1, max2 = (np.max(img), imgProps.max)\n",
    "    mean1, mean2 = (np.mean(img), imgProps.mean)\n",
    "    median1, median2 = (np.median(img), imgProps.median)\n",
    "    std1, std2 = (np.std(img), imgProps.std)\n",
    "    print(\"Min\", min1, min2)\n",
    "    print(\"Max\", max1, max2)\n",
    "    print(\"Mean\", mean1, mean2)\n",
    "    print(\"Median\", median1, median2)\n",
    "    print(\"Std\", std1, std2)\n",
    "    if min1 == min2 and max1 == max2 and mean1 == mean2 and median1 == median2 and std1 == std2 and equal:\n",
    "        print(\"Passed: True\")\n",
    "    else:\n",
    "        print(\"Passed: False\")\n",
    "    print(\"--------------------------\")\n",
    "\n",
    "Test(\"Image\", imgObj.img, imgObj.imgProps, imgObj.img)\n",
    "Test(\"Image Spatial\", imgObj.imgSpatial.maxArray, imgObj.imgSpatial.max, np.max(imgObj.img, axis=0))\n",
    "Test(\"Image Spatial\", imgObj.imgSpatial.minArray, imgObj.imgSpatial.min, np.min(imgObj.img, axis=0))\n",
    "Test(\"Image Spatial\", imgObj.imgSpatial.meanArray, imgObj.imgSpatial.mean, np.mean(imgObj.img, axis=0))\n",
    "Test(\"Image Spatial\", imgObj.imgSpatial.medianArray, imgObj.imgSpatial.median, np.median(imgObj.img, axis=0))\n",
    "Test(\"Image Spatial\", imgObj.imgSpatial.stdArray, imgObj.imgSpatial.std, np.std(imgObj.img, axis=0))"
   ]
  },
  {
   "cell_type": "code",
   "execution_count": 34,
   "metadata": {},
   "outputs": [
    {
     "name": "stdout",
     "output_type": "stream",
     "text": [
      "Image Temporal (20,) (20,)\n",
      "Images equal True\n",
      "Min 160 160\n",
      "Max 195 195\n",
      "Mean 167.9 167.9\n",
      "Median 163.0 163.0\n",
      "Std 10.108906963663284 10.108906963663284\n",
      "Passed: True\n",
      "--------------------------\n",
      "Image Temporal (20,) (20,)\n",
      "Images equal True\n",
      "Min 0 0\n",
      "Max 0 0\n",
      "Mean 0.0 0.0\n",
      "Median 0.0 0.0\n",
      "Std 0.0 0.0\n",
      "Passed: True\n",
      "--------------------------\n",
      "Image Temporal (20,) (20,)\n",
      "Images equal True\n",
      "Min 7.777679443359375 7.777679443359375\n",
      "Max 8.026084899902344 8.026084899902344\n",
      "Mean 7.8555351257324215 7.8555351257324215\n",
      "Median 7.842996597290039 7.842996597290039\n",
      "Std 0.07026021387138275 0.07026021387138275\n",
      "Passed: True\n",
      "--------------------------\n",
      "Image Temporal (20,) (20,)\n",
      "Images equal True\n",
      "Min 5.0 5.0\n",
      "Max 6.0 6.0\n",
      "Mean 5.05 5.05\n",
      "Median 5.0 5.0\n",
      "Std 0.21794494717703367 0.21794494717703367\n",
      "Passed: True\n",
      "--------------------------\n",
      "Image Temporal (20,) (20,)\n",
      "Images equal True\n",
      "Min 10.455266951689122 10.455266951689122\n",
      "Max 11.823470517409174 11.823470517409174\n",
      "Mean 10.789001325370378 10.789001325370378\n",
      "Median 10.60371071760489 10.60371071760489\n",
      "Std 0.3827611435798048 0.3827611435798048\n",
      "Passed: True\n",
      "--------------------------\n"
     ]
    }
   ],
   "source": [
    "Test(\"Image Temporal\", imgObj.imgTemporal.maxArray, imgObj.imgTemporal.max, np.max(imgObj.img, axis=(1,2)))\n",
    "Test(\"Image Temporal\", imgObj.imgTemporal.minArray, imgObj.imgTemporal.min, np.min(imgObj.img, axis=(1,2)))\n",
    "Test(\"Image Temporal\", imgObj.imgTemporal.meanArray, imgObj.imgTemporal.mean, np.mean(imgObj.img, axis=(1,2)))\n",
    "Test(\"Image Temporal\", imgObj.imgTemporal.medianArray, imgObj.imgTemporal.median, np.median(imgObj.img, axis=(1,2)))\n",
    "Test(\"Image Temporal\", imgObj.imgTemporal.stdArray, imgObj.imgTemporal.std, np.std(imgObj.img, axis=(1,2)))"
   ]
  },
  {
   "cell_type": "code",
   "execution_count": 35,
   "metadata": {},
   "outputs": [
    {
     "name": "stdout",
     "output_type": "stream",
     "text": [
      "diffImg (19, 512, 512) (19, 512, 512)\n",
      "Images equal True\n",
      "Min -76 -76\n",
      "Max 75 75\n",
      "Mean 0.003974312230160362 0.003974312230160362\n",
      "Median 0.0 0.0\n",
      "Std 1.5136341602162553 1.5136341602162553\n",
      "Passed: True\n",
      "--------------------------\n",
      "diffImg Spatial (512, 512) (512, 512)\n",
      "Images equal True\n",
      "Min 0 0\n",
      "Max 75 75\n",
      "Mean 1.3360137939453125 1.3360137939453125\n",
      "Median 1.0 1.0\n",
      "Std 2.6856900252856994 2.6856900252856994\n",
      "Passed: True\n",
      "--------------------------\n",
      "diffImg Spatial (512, 512) (512, 512)\n",
      "Images equal True\n",
      "Min -76 -76\n",
      "Max 0 0\n",
      "Mean -1.3307762145996094 -1.3307762145996094\n",
      "Median -1.0 -1.0\n",
      "Std 2.757688741894834 2.757688741894834\n",
      "Passed: True\n",
      "--------------------------\n",
      "diffImg Spatial (512, 512) (512, 512)\n",
      "Images equal True\n",
      "Min -0.3684210526315789 -0.3684210526315789\n",
      "Max 0.5789473684210527 0.5789473684210527\n",
      "Mean 0.003974312230160362 0.003974312230160362\n",
      "Median 0.0 0.0\n",
      "Std 0.036500595818435955 0.036500595818435955\n",
      "Passed: True\n",
      "--------------------------\n",
      "diffImg Spatial (512, 512) (512, 512)\n",
      "Images equal True\n",
      "Min -3.0 -3.0\n",
      "Max 3.0 3.0\n",
      "Mean -0.000934600830078125 -0.000934600830078125\n",
      "Median 0.0 0.0\n",
      "Std 0.08200266947231226 0.08200266947231226\n",
      "Passed: True\n",
      "--------------------------\n",
      "diffImg Spatial (512, 512) (512, 512)\n",
      "Images equal True\n",
      "Min 0.0 0.0\n",
      "Max 49.82556831203964 49.82556831203964\n",
      "Mean 0.6843619736691116 0.6843619736691116\n",
      "Median 0.5619514869490163 0.5619514869490163\n",
      "Std 1.3495942969923167 1.3495942969923167\n",
      "Passed: True\n",
      "--------------------------\n"
     ]
    }
   ],
   "source": [
    "Test(\"diffImg\", imgObj.imgDiff, imgObj.imgDiffProps, np.diff(imgObj.img, axis=0))\n",
    "Test(\"diffImg Spatial\", imgObj.imgDiffSpatial.maxArray, imgObj.imgDiffSpatial.max, np.max(imgObj.imgDiff, axis=0))\n",
    "Test(\"diffImg Spatial\", imgObj.imgDiffSpatial.minArray, imgObj.imgDiffSpatial.min, np.min(imgObj.imgDiff, axis=0))\n",
    "Test(\"diffImg Spatial\", imgObj.imgDiffSpatial.meanArray, imgObj.imgDiffSpatial.mean, np.mean(imgObj.imgDiff, axis=0))\n",
    "Test(\"diffImg Spatial\", imgObj.imgDiffSpatial.medianArray, imgObj.imgDiffSpatial.median, np.median(imgObj.imgDiff, axis=0))\n",
    "Test(\"diffImg Spatial\", imgObj.imgDiffSpatial.stdArray, imgObj.imgDiffSpatial.std, np.std(imgObj.imgDiff, axis=0))"
   ]
  },
  {
   "cell_type": "code",
   "execution_count": 36,
   "metadata": {},
   "outputs": [
    {
     "name": "stdout",
     "output_type": "stream",
     "text": [
      "diffImg Temporal (19,) (19,)\n",
      "Images equal True\n",
      "Min 4 4\n",
      "Max 75 75\n",
      "Mean 34.1578947368421 34.1578947368421\n",
      "Median 13.0 13.0\n",
      "Std 28.72237924079545 28.72237924079545\n",
      "Passed: True\n",
      "--------------------------\n",
      "diffImg Temporal (19,) (19,)\n",
      "Images equal True\n",
      "Min -76 -76\n",
      "Max -5 -5\n",
      "Mean -33.63157894736842 -33.63157894736842\n",
      "Median -12.0 -12.0\n",
      "Std 28.28838431195054 28.28838431195054\n",
      "Passed: True\n",
      "--------------------------\n",
      "diffImg Temporal (19,) (19,)\n",
      "Images equal True\n",
      "Min -0.233245849609375 -0.233245849609375\n",
      "Max 0.21108627319335938 0.21108627319335938\n",
      "Mean 0.003974312230160362 0.003974312230160362\n",
      "Median 0.05498504638671875 0.05498504638671875\n",
      "Std 0.12964499771340468 0.12964499771340468\n",
      "Passed: True\n",
      "--------------------------\n",
      "diffImg Temporal (19,) (19,)\n",
      "Images equal True\n",
      "Min 0.0 0.0\n",
      "Max 0.0 0.0\n",
      "Mean 0.0 0.0\n",
      "Median 0.0 0.0\n",
      "Std 0.0 0.0\n",
      "Passed: True\n",
      "--------------------------\n",
      "diffImg Temporal (19,) (19,)\n",
      "Images equal True\n",
      "Min 0.7123779340654661 0.7123779340654661\n",
      "Max 2.3761870104436094 2.3761870104436094\n",
      "Mean 1.4497345593048063 1.4497345593048063\n",
      "Median 1.457249422779855 1.457249422779855\n",
      "Std 0.4153916863621114 0.4153916863621114\n",
      "Passed: True\n",
      "--------------------------\n"
     ]
    }
   ],
   "source": [
    "Test(\"diffImg Temporal\", imgObj.imgDiffTemporal.maxArray, imgObj.imgDiffTemporal.max, np.max(imgObj.imgDiff, axis=(1,2)))\n",
    "Test(\"diffImg Temporal\", imgObj.imgDiffTemporal.minArray, imgObj.imgDiffTemporal.min, np.min(imgObj.imgDiff, axis=(1,2)))\n",
    "Test(\"diffImg Temporal\", imgObj.imgDiffTemporal.meanArray, imgObj.imgDiffTemporal.mean, np.mean(imgObj.imgDiff, axis=(1,2)))\n",
    "Test(\"diffImg Temporal\", imgObj.imgDiffTemporal.medianArray, imgObj.imgDiffTemporal.median, np.median(imgObj.imgDiff, axis=(1,2)))\n",
    "Test(\"diffImg Temporal\", imgObj.imgDiffTemporal.stdArray, imgObj.imgDiffTemporal.std, np.std(imgObj.imgDiff, axis=(1,2)))"
   ]
  },
  {
   "cell_type": "code",
   "execution_count": 46,
   "metadata": {},
   "outputs": [],
   "source": [
    "imgObj.imgDiff_Mode = \"Convoluted\""
   ]
  },
  {
   "cell_type": "code",
   "execution_count": 47,
   "metadata": {},
   "outputs": [
    {
     "name": "stdout",
     "output_type": "stream",
     "text": [
      "diffImg (19, 512, 512) (19, 512, 512)\n",
      "Images equal False\n",
      "Min -61 -61\n",
      "Max 61 61\n",
      "Mean 0.0008930407072368421 0.0008930407072368421\n",
      "Median 0.0 0.0\n",
      "Std 1.1849254503678972 1.1849254503678972\n",
      "Passed: False\n",
      "--------------------------\n",
      "diffImg Spatial (512, 512) (512, 512)\n",
      "Images equal True\n",
      "Min 0 0\n",
      "Max 61 61\n",
      "Mean 0.3010444641113281 0.3010444641113281\n",
      "Median 0.0 0.0\n",
      "Std 2.3483706682134295 2.3483706682134295\n",
      "Passed: True\n",
      "--------------------------\n",
      "diffImg Spatial (512, 512) (512, 512)\n",
      "Images equal True\n",
      "Min -61 -61\n",
      "Max 0 0\n",
      "Mean -0.3037910461425781 -0.3037910461425781\n",
      "Median 0.0 0.0\n",
      "Std 2.428927477701627 2.428927477701627\n",
      "Passed: True\n",
      "--------------------------\n",
      "diffImg Spatial (512, 512) (512, 512)\n",
      "Images equal True\n",
      "Min -0.2631578947368421 -0.2631578947368421\n",
      "Max 0.47368421052631576 0.47368421052631576\n",
      "Mean 0.0008930407072368421 0.0008930407072368421\n",
      "Median 0.0 0.0\n",
      "Std 0.01854679169359821 0.01854679169359821\n",
      "Passed: True\n",
      "--------------------------\n",
      "diffImg Spatial (512, 512) (512, 512)\n",
      "Images equal True\n",
      "Min -1.0 -1.0\n",
      "Max 2.0 2.0\n",
      "Mean -5.7220458984375e-05 -5.7220458984375e-05\n",
      "Median 0.0 0.0\n",
      "Std 0.01943326413950957 0.01943326413950957\n",
      "Passed: True\n",
      "--------------------------\n",
      "diffImg Spatial (512, 512) (512, 512)\n",
      "Images equal True\n",
      "Min 0.0 0.0\n",
      "Max 37.93148802688234 37.93148802688234\n",
      "Mean 0.13389501260461598 0.13389501260461598\n",
      "Median 0.0 0.0\n",
      "Std 1.177190071758615 1.177190071758615\n",
      "Passed: True\n",
      "--------------------------\n"
     ]
    }
   ],
   "source": [
    "Test(\"diffImg\", imgObj.imgDiff, imgObj.imgDiffProps, np.diff(imgObj.img, axis=0))\n",
    "Test(\"diffImg Spatial\", imgObj.imgDiffSpatial.maxArray, imgObj.imgDiffSpatial.max, np.max(imgObj.imgDiff, axis=0))\n",
    "Test(\"diffImg Spatial\", imgObj.imgDiffSpatial.minArray, imgObj.imgDiffSpatial.min, np.min(imgObj.imgDiff, axis=0))\n",
    "Test(\"diffImg Spatial\", imgObj.imgDiffSpatial.meanArray, imgObj.imgDiffSpatial.mean, np.mean(imgObj.imgDiff, axis=0))\n",
    "Test(\"diffImg Spatial\", imgObj.imgDiffSpatial.medianArray, imgObj.imgDiffSpatial.median, np.median(imgObj.imgDiff, axis=0))\n",
    "Test(\"diffImg Spatial\", imgObj.imgDiffSpatial.stdArray, imgObj.imgDiffSpatial.std, np.std(imgObj.imgDiff, axis=0))"
   ]
  },
  {
   "cell_type": "code",
   "execution_count": 48,
   "metadata": {},
   "outputs": [
    {
     "name": "stdout",
     "output_type": "stream",
     "text": [
      "diffImg Temporal (19,) (19,)\n",
      "Images equal True\n",
      "Min 1 1\n",
      "Max 61 61\n",
      "Mean 24.05263157894737 24.05263157894737\n",
      "Median 8.0 8.0\n",
      "Std 23.091291783542278 23.091291783542278\n",
      "Passed: True\n",
      "--------------------------\n",
      "diffImg Temporal (19,) (19,)\n",
      "Images equal True\n",
      "Min -61 -61\n",
      "Max -1 -1\n",
      "Mean -23.57894736842105 -23.57894736842105\n",
      "Median -5.0 -5.0\n",
      "Std 22.91015814568699 22.91015814568699\n",
      "Passed: True\n",
      "--------------------------\n",
      "diffImg Temporal (19,) (19,)\n",
      "Images equal True\n",
      "Min -0.1880950927734375 -0.1880950927734375\n",
      "Max 0.16592788696289062 0.16592788696289062\n",
      "Mean 0.0008930407072368421 0.0008930407072368421\n",
      "Median 0.01525115966796875 0.01525115966796875\n",
      "Std 0.0910896607851728 0.0910896607851728\n",
      "Passed: True\n",
      "--------------------------\n",
      "diffImg Temporal (19,) (19,)\n",
      "Images equal True\n",
      "Min 0.0 0.0\n",
      "Max 0.0 0.0\n",
      "Mean 0.0 0.0\n",
      "Median 0.0 0.0\n",
      "Std 0.0 0.0\n",
      "Passed: True\n",
      "--------------------------\n",
      "diffImg Temporal (19,) (19,)\n",
      "Images equal True\n",
      "Min 0.2191770547479842 0.2191770547479842\n",
      "Max 2.027721363373381 2.027721363373381\n",
      "Mean 1.0984452405317713 1.0984452405317713\n",
      "Median 1.1175342100742611 1.1175342100742611\n",
      "Std 0.43493568510839736 0.43493568510839736\n",
      "Passed: True\n",
      "--------------------------\n"
     ]
    }
   ],
   "source": [
    "Test(\"diffImg Temporal\", imgObj.imgDiffTemporal.maxArray, imgObj.imgDiffTemporal.max, np.max(imgObj.imgDiff, axis=(1,2)))\n",
    "Test(\"diffImg Temporal\", imgObj.imgDiffTemporal.minArray, imgObj.imgDiffTemporal.min, np.min(imgObj.imgDiff, axis=(1,2)))\n",
    "Test(\"diffImg Temporal\", imgObj.imgDiffTemporal.meanArray, imgObj.imgDiffTemporal.mean, np.mean(imgObj.imgDiff, axis=(1,2)))\n",
    "Test(\"diffImg Temporal\", imgObj.imgDiffTemporal.medianArray, imgObj.imgDiffTemporal.median, np.median(imgObj.imgDiff, axis=(1,2)))\n",
    "Test(\"diffImg Temporal\", imgObj.imgDiffTemporal.stdArray, imgObj.imgDiffTemporal.std, np.std(imgObj.imgDiff, axis=(1,2)))"
   ]
  }
 ],
 "metadata": {
  "kernelspec": {
   "display_name": "neurotorch",
   "language": "python",
   "name": "python3"
  },
  "language_info": {
   "codemirror_mode": {
    "name": "ipython",
    "version": 3
   },
   "file_extension": ".py",
   "mimetype": "text/x-python",
   "name": "python",
   "nbconvert_exporter": "python",
   "pygments_lexer": "ipython3",
   "version": "3.12.7"
  }
 },
 "nbformat": 4,
 "nbformat_minor": 2
}
