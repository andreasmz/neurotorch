{
 "cells": [
  {
   "cell_type": "code",
   "execution_count": 6,
   "metadata": {},
   "outputs": [],
   "source": [
    "import os, sys\n",
    "import numpy as np\n",
    "import matplotlib.pyplot as plt\n",
    "from matplotlib import cm\n",
    "from ipywidgets import interact, Button\n",
    "import ipywidgets as widgets\n",
    "import scipy.ndimage as ndimage\n",
    "from scipy.optimize import curve_fit\n",
    "from matplotlib.patches import Circle\n",
    "import xarray\n",
    "import scipy as sp"
   ]
  },
  {
   "cell_type": "code",
   "execution_count": 7,
   "metadata": {},
   "outputs": [
    {
     "name": "stdout",
     "output_type": "stream",
     "text": [
      "Running threads: MainThreadIOPubHeartbeatControlIPythonHistorySavingThreadThread-3Thread-26 (Start)\n",
      "Closing\n",
      "Exit Neurotorch\n"
     ]
    }
   ],
   "source": [
    "sys.path.insert(1, os.path.join(os.path.join(os.path.abspath(\"\"), os.pardir), os.pardir))\n",
    "import neurotorchmz as neuro\n",
    "from neurotorchmz.utils.image import ImgObj\n",
    "neuro.Start_Background()\n",
    "%matplotlib inline"
   ]
  },
  {
   "cell_type": "code",
   "execution_count": null,
   "metadata": {},
   "outputs": [],
   "source": [
    "from neurotorch.gui.components import Job, JobState, Statusbar"
   ]
  },
  {
   "cell_type": "code",
   "execution_count": null,
   "metadata": {},
   "outputs": [],
   "source": [
    "job = Job(10)\n",
    "neuro.API.GUI().statusbar._jobs.append(job)"
   ]
  },
  {
   "cell_type": "code",
   "execution_count": null,
   "metadata": {},
   "outputs": [],
   "source": [
    "job2 = Job(5)\n",
    "neuro.API.GUI().statusbar._jobs.append(job2)"
   ]
  },
  {
   "cell_type": "code",
   "execution_count": null,
   "metadata": {},
   "outputs": [],
   "source": [
    "job3 = Job(0)\n",
    "neuro.API.GUI().statusbar._jobs.append(job3)"
   ]
  },
  {
   "cell_type": "code",
   "execution_count": null,
   "metadata": {},
   "outputs": [],
   "source": [
    "job2.SetProgress(5,\"Starting ImageJ\")"
   ]
  },
  {
   "cell_type": "code",
   "execution_count": null,
   "metadata": {},
   "outputs": [],
   "source": [
    "job.SetStopped()"
   ]
  },
  {
   "cell_type": "code",
   "execution_count": null,
   "metadata": {},
   "outputs": [],
   "source": [
    "job2.SetProgress(4, \"Calculating Diff\")"
   ]
  },
  {
   "cell_type": "code",
   "execution_count": null,
   "metadata": {},
   "outputs": [],
   "source": [
    "print(neuro.API.GUI().statusbar._jobs)"
   ]
  },
  {
   "cell_type": "code",
   "execution_count": null,
   "metadata": {},
   "outputs": [],
   "source": [
    "neuro.API.GUI().statusbar._jobs[1].SetStopped(\"Stopped\")"
   ]
  },
  {
   "cell_type": "code",
   "execution_count": null,
   "metadata": {},
   "outputs": [],
   "source": [
    "neuro.API.GUI().statusbar._jobs[0].steps = 10\n",
    "neuro.API.GUI().statusbar._jobs[0].showSteps = True"
   ]
  },
  {
   "cell_type": "code",
   "execution_count": null,
   "metadata": {},
   "outputs": [],
   "source": [
    "neuro.API.GUI().statusbar._jobs[0].SetStopped()"
   ]
  },
  {
   "cell_type": "code",
   "execution_count": null,
   "metadata": {},
   "outputs": [],
   "source": [
    "class TestClass:\n",
    "    def __init__(self):\n",
    "        self._prop = \"Hello World\"\n",
    "\n",
    "    @property\n",
    "    def Prop(self):\n",
    "        print(\"Abruf\")\n",
    "        return self._prop"
   ]
  },
  {
   "cell_type": "code",
   "execution_count": null,
   "metadata": {},
   "outputs": [],
   "source": [
    "tc = TestClass()"
   ]
  },
  {
   "cell_type": "code",
   "execution_count": null,
   "metadata": {},
   "outputs": [],
   "source": []
  },
  {
   "cell_type": "code",
   "execution_count": null,
   "metadata": {},
   "outputs": [],
   "source": [
    "print(c)"
   ]
  },
  {
   "cell_type": "markdown",
   "metadata": {},
   "source": [
    "### Test of new Image Object"
   ]
  },
  {
   "cell_type": "code",
   "execution_count": null,
   "metadata": {},
   "outputs": [],
   "source": [
    "imgObj = neuro.Get_API().ImageObject"
   ]
  },
  {
   "cell_type": "code",
   "execution_count": null,
   "metadata": {},
   "outputs": [],
   "source": [
    "print(\"Min\", np.min(imgObj.img), imgObj.imgProps.min)\n",
    "print(\"Max\", np.max(imgObj.img), imgObj.imgProps.max)\n",
    "print(\"Mean\", np.mean(imgObj.img), imgObj.imgProps.mean)\n",
    "print(\"Median\", np.median(imgObj.img), imgObj.imgProps.median)\n",
    "print(\"Std\", np.std(imgObj.img), imgObj.imgProps.std)"
   ]
  },
  {
   "cell_type": "code",
   "execution_count": null,
   "metadata": {},
   "outputs": [],
   "source": [
    "def Test(name, img, imgProps, refImage):\n",
    "    print(name, img.shape, refImage.shape)\n",
    "    equal = (img == refImage).all()\n",
    "    print(\"Images equal\", equal)\n",
    "    min1, min2 = (np.min(img), imgProps.min)\n",
    "    max1, max2 = (np.max(img), imgProps.max)\n",
    "    mean1, mean2 = (np.mean(img), imgProps.mean)\n",
    "    median1, median2 = (np.median(img), imgProps.median)\n",
    "    std1, std2 = (np.std(img), imgProps.std)\n",
    "    print(\"Min\", min1, min2)\n",
    "    print(\"Max\", max1, max2)\n",
    "    print(\"Mean\", mean1, mean2)\n",
    "    print(\"Median\", median1, median2)\n",
    "    print(\"Std\", std1, std2)\n",
    "    if min1 == min2 and max1 == max2 and mean1 == mean2 and median1 == median2 and std1 == std2 and equal:\n",
    "        print(\"Passed: True\")\n",
    "    else:\n",
    "        print(\"Passed: False\")\n",
    "    print(\"--------------------------\")\n",
    "\n",
    "Test(\"Image\", imgObj.img, imgObj.imgProps, imgObj.img)\n",
    "Test(\"Image Spatial\", imgObj.imgSpatial.maxArray, imgObj.imgSpatial.max, np.max(imgObj.img, axis=0))\n",
    "Test(\"Image Spatial\", imgObj.imgSpatial.minArray, imgObj.imgSpatial.min, np.min(imgObj.img, axis=0))\n",
    "Test(\"Image Spatial\", imgObj.imgSpatial.meanArray, imgObj.imgSpatial.mean, np.mean(imgObj.img, axis=0))\n",
    "Test(\"Image Spatial\", imgObj.imgSpatial.medianArray, imgObj.imgSpatial.median, np.median(imgObj.img, axis=0))\n",
    "Test(\"Image Spatial\", imgObj.imgSpatial.stdArray, imgObj.imgSpatial.std, np.std(imgObj.img, axis=0))"
   ]
  },
  {
   "cell_type": "code",
   "execution_count": null,
   "metadata": {},
   "outputs": [],
   "source": [
    "Test(\"Image Temporal\", imgObj.imgTemporal.maxArray, imgObj.imgTemporal.max, np.max(imgObj.img, axis=(1,2)))\n",
    "Test(\"Image Temporal\", imgObj.imgTemporal.minArray, imgObj.imgTemporal.min, np.min(imgObj.img, axis=(1,2)))\n",
    "Test(\"Image Temporal\", imgObj.imgTemporal.meanArray, imgObj.imgTemporal.mean, np.mean(imgObj.img, axis=(1,2)))\n",
    "Test(\"Image Temporal\", imgObj.imgTemporal.medianArray, imgObj.imgTemporal.median, np.median(imgObj.img, axis=(1,2)))\n",
    "Test(\"Image Temporal\", imgObj.imgTemporal.stdArray, imgObj.imgTemporal.std, np.std(imgObj.img, axis=(1,2)))"
   ]
  },
  {
   "cell_type": "code",
   "execution_count": null,
   "metadata": {},
   "outputs": [],
   "source": [
    "Test(\"diffImg\", imgObj.imgDiff, imgObj.imgDiffProps, np.diff(imgObj.img, axis=0))\n",
    "Test(\"diffImg Spatial\", imgObj.imgDiffSpatial.maxArray, imgObj.imgDiffSpatial.max, np.max(imgObj.imgDiff, axis=0))\n",
    "Test(\"diffImg Spatial\", imgObj.imgDiffSpatial.minArray, imgObj.imgDiffSpatial.min, np.min(imgObj.imgDiff, axis=0))\n",
    "Test(\"diffImg Spatial\", imgObj.imgDiffSpatial.meanArray, imgObj.imgDiffSpatial.mean, np.mean(imgObj.imgDiff, axis=0))\n",
    "Test(\"diffImg Spatial\", imgObj.imgDiffSpatial.medianArray, imgObj.imgDiffSpatial.median, np.median(imgObj.imgDiff, axis=0))\n",
    "Test(\"diffImg Spatial\", imgObj.imgDiffSpatial.stdArray, imgObj.imgDiffSpatial.std, np.std(imgObj.imgDiff, axis=0))"
   ]
  },
  {
   "cell_type": "code",
   "execution_count": null,
   "metadata": {},
   "outputs": [],
   "source": [
    "Test(\"diffImg Temporal\", imgObj.imgDiffTemporal.maxArray, imgObj.imgDiffTemporal.max, np.max(imgObj.imgDiff, axis=(1,2)))\n",
    "Test(\"diffImg Temporal\", imgObj.imgDiffTemporal.minArray, imgObj.imgDiffTemporal.min, np.min(imgObj.imgDiff, axis=(1,2)))\n",
    "Test(\"diffImg Temporal\", imgObj.imgDiffTemporal.meanArray, imgObj.imgDiffTemporal.mean, np.mean(imgObj.imgDiff, axis=(1,2)))\n",
    "Test(\"diffImg Temporal\", imgObj.imgDiffTemporal.medianArray, imgObj.imgDiffTemporal.median, np.median(imgObj.imgDiff, axis=(1,2)))\n",
    "Test(\"diffImg Temporal\", imgObj.imgDiffTemporal.stdArray, imgObj.imgDiffTemporal.std, np.std(imgObj.imgDiff, axis=(1,2)))"
   ]
  },
  {
   "cell_type": "code",
   "execution_count": null,
   "metadata": {},
   "outputs": [],
   "source": [
    "imgObj.imgDiff_Mode = \"Convoluted\""
   ]
  },
  {
   "cell_type": "code",
   "execution_count": null,
   "metadata": {},
   "outputs": [],
   "source": [
    "Test(\"diffImg\", imgObj.imgDiff, imgObj.imgDiffProps, np.diff(imgObj.img, axis=0))\n",
    "Test(\"diffImg Spatial\", imgObj.imgDiffSpatial.maxArray, imgObj.imgDiffSpatial.max, np.max(imgObj.imgDiff, axis=0))\n",
    "Test(\"diffImg Spatial\", imgObj.imgDiffSpatial.minArray, imgObj.imgDiffSpatial.min, np.min(imgObj.imgDiff, axis=0))\n",
    "Test(\"diffImg Spatial\", imgObj.imgDiffSpatial.meanArray, imgObj.imgDiffSpatial.mean, np.mean(imgObj.imgDiff, axis=0))\n",
    "Test(\"diffImg Spatial\", imgObj.imgDiffSpatial.medianArray, imgObj.imgDiffSpatial.median, np.median(imgObj.imgDiff, axis=0))\n",
    "Test(\"diffImg Spatial\", imgObj.imgDiffSpatial.stdArray, imgObj.imgDiffSpatial.std, np.std(imgObj.imgDiff, axis=0))"
   ]
  },
  {
   "cell_type": "code",
   "execution_count": null,
   "metadata": {},
   "outputs": [],
   "source": [
    "Test(\"diffImg Temporal\", imgObj.imgDiffTemporal.maxArray, imgObj.imgDiffTemporal.max, np.max(imgObj.imgDiff, axis=(1,2)))\n",
    "Test(\"diffImg Temporal\", imgObj.imgDiffTemporal.minArray, imgObj.imgDiffTemporal.min, np.min(imgObj.imgDiff, axis=(1,2)))\n",
    "Test(\"diffImg Temporal\", imgObj.imgDiffTemporal.meanArray, imgObj.imgDiffTemporal.mean, np.mean(imgObj.imgDiff, axis=(1,2)))\n",
    "Test(\"diffImg Temporal\", imgObj.imgDiffTemporal.medianArray, imgObj.imgDiffTemporal.median, np.median(imgObj.imgDiff, axis=(1,2)))\n",
    "Test(\"diffImg Temporal\", imgObj.imgDiffTemporal.stdArray, imgObj.imgDiffTemporal.std, np.std(imgObj.imgDiff, axis=(1,2)))"
   ]
  },
  {
   "cell_type": "code",
   "execution_count": null,
   "metadata": {},
   "outputs": [],
   "source": [
    "imgObj = neuro.Get_API().ImageObject"
   ]
  },
  {
   "cell_type": "code",
   "execution_count": null,
   "metadata": {},
   "outputs": [],
   "source": [
    "l = 98\n",
    "r = 103\n",
    "fig, axes = plt.subplots(2, r-l, figsize=((r-l)*2.5, 5))\n",
    "for ax in axes.flatten():\n",
    "    ax.set_axis_off()\n",
    "vmin = np.min(imgObj.img[l:r+1])\n",
    "vmax = np.max(imgObj.img[l:r+1])\n",
    "vmax2 = np.max(imgObj.imgDiff[l-1:r])\n",
    "for i in range(axes.shape[1]):\n",
    "    axes[0, i].imshow(imgObj.img[l+i], cmap=\"Greys_r\", vmin=vmin, vmax=vmax)\n",
    "    axes[1, i].imshow(imgObj.imgDiff[l+i-1], cmap=\"inferno\", vmin=0, vmax=vmax2)\n",
    "    axes[1, i].set_title(f\"t = {0.01*(i+l)}s\")\n",
    "fig.tight_layout()\n",
    "fig.show()"
   ]
  },
  {
   "cell_type": "code",
   "execution_count": null,
   "metadata": {},
   "outputs": [],
   "source": [
    "from neurotorchmz.utils.image import ImgObj\n",
    "min = neuro.Get_API().ImageObject.imgView(ImgObj.TEMPORAL).Median\n",
    "print(min.shape)"
   ]
  },
  {
   "cell_type": "code",
   "execution_count": null,
   "metadata": {},
   "outputs": [],
   "source": [
    "neuro.Get_API().ImageObject.imgView(ImgObj.TEMPORAL)._Median = None"
   ]
  },
  {
   "cell_type": "code",
   "execution_count": null,
   "metadata": {},
   "outputs": [],
   "source": [
    "np.median(neuro.Get_API().ImageObject.img, axis=ImgObj.TEMPORAL)"
   ]
  },
  {
   "cell_type": "code",
   "execution_count": null,
   "metadata": {},
   "outputs": [],
   "source": [
    "import numpy as np\n",
    "import psutil\n",
    "print(np.__version__)\n",
    "def PrintRAM():\n",
    "    process = psutil.Process()\n",
    "    _size = round(process.memory_info().rss/(1024**2),2)\n",
    "    print(f\"RAM: {_size} MB\")\n",
    "PrintRAM()"
   ]
  },
  {
   "cell_type": "code",
   "execution_count": null,
   "metadata": {},
   "outputs": [],
   "source": [
    "PrintRAM()\n",
    "data = np.random.randint(0,255, size=(2000,800,800),dtype=\"int16\")\n",
    "PrintRAM()"
   ]
  },
  {
   "cell_type": "code",
   "execution_count": null,
   "metadata": {},
   "outputs": [],
   "source": [
    "PrintRAM()\n",
    "data_mean = np.mean(data)\n",
    "print(data_mean)\n",
    "PrintRAM()"
   ]
  },
  {
   "cell_type": "code",
   "execution_count": null,
   "metadata": {},
   "outputs": [],
   "source": [
    "PrintRAM()\n",
    "r = np.var(data,axis=0, mean=data_mean)\n",
    "print(r.shape)\n",
    "PrintRAM()"
   ]
  },
  {
   "cell_type": "code",
   "execution_count": null,
   "metadata": {},
   "outputs": [],
   "source": [
    "img = neuro.Get_API().ImageObject.img"
   ]
  },
  {
   "cell_type": "code",
   "execution_count": null,
   "metadata": {},
   "outputs": [],
   "source": [
    "PrintRAM()\n",
    "r2 = np.mean(data)\n",
    "print(r2)\n",
    "PrintRAM()"
   ]
  },
  {
   "cell_type": "code",
   "execution_count": null,
   "metadata": {},
   "outputs": [],
   "source": [
    "from neurotorchmz.utils.image import ImgObj"
   ]
  },
  {
   "cell_type": "code",
   "execution_count": null,
   "metadata": {},
   "outputs": [],
   "source": [
    "r3 = np.std(neuro.Get_API().ImageObject.img, axis=ImgObj.SPATIAL)\n",
    "print(r3.shape)"
   ]
  },
  {
   "cell_type": "code",
   "execution_count": null,
   "metadata": {},
   "outputs": [],
   "source": [
    "print(data[[1,46],:,:].shape)"
   ]
  },
  {
   "cell_type": "code",
   "execution_count": null,
   "metadata": {},
   "outputs": [],
   "source": [
    "npImg = np.empty(pimsImg.shape, dtype=pimsImg.dtype)"
   ]
  },
  {
   "cell_type": "code",
   "execution_count": null,
   "metadata": {},
   "outputs": [],
   "source": [
    "for i in range(pimsImg.shape[0]):\n",
    "    npImg[i] = data[i]"
   ]
  },
  {
   "cell_type": "code",
   "execution_count": null,
   "metadata": {},
   "outputs": [],
   "source": [
    "print(npImg.shape)"
   ]
  },
  {
   "cell_type": "code",
   "execution_count": null,
   "metadata": {},
   "outputs": [],
   "source": [
    "import pims\n",
    "pimsImg = pims.open(r\"D:\\Eigene Datein\\Programmieren\\PYTHON\\AG Heine Hiwi\\Daten\\control_R2-3.nd2\")"
   ]
  },
  {
   "cell_type": "code",
   "execution_count": null,
   "metadata": {},
   "outputs": [],
   "source": [
    "pimsImg.dtype"
   ]
  },
  {
   "cell_type": "code",
   "execution_count": 5,
   "metadata": {},
   "outputs": [
    {
     "data": {
      "text/plain": [
       "np.float32(46.222)"
      ]
     },
     "execution_count": 5,
     "metadata": {},
     "output_type": "execute_result"
    }
   ],
   "source": [
    "import numpy as np\n",
    "np.round(np.float32(46.22212456),3)"
   ]
  },
  {
   "cell_type": "code",
   "execution_count": 11,
   "metadata": {},
   "outputs": [],
   "source": [
    "from neurotorchmz.utils.image import ImgObj"
   ]
  },
  {
   "cell_type": "code",
   "execution_count": 25,
   "metadata": {},
   "outputs": [
    {
     "name": "stdout",
     "output_type": "stream",
     "text": [
      "Image Stats: range = [0, 49], 0.6800000071525574 ± 1.350000023841858, median = 0.5600000023841858\n",
      "0.68\n"
     ]
    }
   ],
   "source": [
    "imgStats = neuro.Get_API().ImageObject.imgDiffView(ImgObj.SPATIAL).StdProps\n",
    "_t = f\"Image Stats: range = [{int(imgStats.min)}, {int(imgStats.max)}], \"\n",
    "_t = _t + f\"{np.round(imgStats.mean, 2)} ± {np.round(imgStats.std, 2)}, \"\n",
    "_t = _t + f\"median = {np.round(imgStats.median, 2)}\"\n",
    "print(_t)\n",
    "print(np.round(imgStats.mean, 2))"
   ]
  }
 ],
 "metadata": {
  "kernelspec": {
   "display_name": "Python 3",
   "language": "python",
   "name": "python3"
  },
  "language_info": {
   "codemirror_mode": {
    "name": "ipython",
    "version": 3
   },
   "file_extension": ".py",
   "mimetype": "text/x-python",
   "name": "python",
   "nbconvert_exporter": "python",
   "pygments_lexer": "ipython3",
   "version": "3.12.4"
  }
 },
 "nbformat": 4,
 "nbformat_minor": 2
}
