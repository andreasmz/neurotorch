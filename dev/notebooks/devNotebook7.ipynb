{
 "cells": [
  {
   "cell_type": "code",
   "execution_count": 1,
   "metadata": {},
   "outputs": [],
   "source": [
    "import os, sys\n",
    "import numpy as np\n",
    "import matplotlib.pyplot as plt\n",
    "from matplotlib import cm\n",
    "from ipywidgets import interact, Button\n",
    "import ipywidgets as widgets\n",
    "import scipy.ndimage as ndimage\n",
    "from scipy.optimize import curve_fit\n",
    "from matplotlib.patches import Circle\n",
    "import xarray\n",
    "import scipy as sp"
   ]
  },
  {
   "cell_type": "code",
   "execution_count": 2,
   "metadata": {},
   "outputs": [
    {
     "name": "stdout",
     "output_type": "stream",
     "text": [
      "Reset job\n",
      "Reset job\n",
      "Reset job\n",
      "Update percentage\n",
      "Update percentage\n",
      "Reset job and progress to zero\n",
      "Reset job\n",
      "Reset job\n",
      "Reset job\n",
      "Reset job\n",
      "Reset job\n",
      "Reset job\n",
      "Mode change to indeterminate\n",
      "Mode change to determinate\n",
      "Update percentage\n",
      "Update percentage\n",
      "Update percentage\n",
      "Update percentage\n",
      "Update percentage\n",
      "Mode change to indeterminate\n",
      "Mode change to determinate\n",
      "Update percentage\n",
      "Update percentage\n",
      "Reset job and progress to zero\n",
      "Reset job\n",
      "Reset job\n",
      "Reset job\n"
     ]
    }
   ],
   "source": [
    "sys.path.insert(1, os.path.join(os.path.join(os.path.abspath(\"\"), os.pardir), os.pardir))\n",
    "import neurotorch as neuro\n",
    "neuro.Start_Background()\n",
    "%matplotlib inline\n",
    "\n",
    "from neurotorch.gui.components import Job, JobState, Statusbar"
   ]
  },
  {
   "cell_type": "code",
   "execution_count": 3,
   "metadata": {},
   "outputs": [],
   "source": [
    "job = Job(10)\n",
    "neuro.API.GUI().statusbar._jobs.append(job)"
   ]
  },
  {
   "cell_type": "code",
   "execution_count": 17,
   "metadata": {},
   "outputs": [],
   "source": [
    "job2 = Job(5)\n",
    "neuro.API.GUI().statusbar._jobs.append(job2)"
   ]
  },
  {
   "cell_type": "code",
   "execution_count": 6,
   "metadata": {},
   "outputs": [],
   "source": [
    "job3 = Job(0)\n",
    "neuro.API.GUI().statusbar._jobs.append(job3)"
   ]
  },
  {
   "cell_type": "code",
   "execution_count": 15,
   "metadata": {},
   "outputs": [],
   "source": [
    "job2.SetProgress(5,\"Starting ImageJ\")"
   ]
  },
  {
   "cell_type": "code",
   "execution_count": 4,
   "metadata": {},
   "outputs": [],
   "source": [
    "job.SetStopped()"
   ]
  },
  {
   "cell_type": "code",
   "execution_count": 36,
   "metadata": {},
   "outputs": [],
   "source": [
    "job2.SetProgress(4, \"Calculating Diff\")"
   ]
  },
  {
   "cell_type": "code",
   "execution_count": 7,
   "metadata": {},
   "outputs": [
    {
     "name": "stdout",
     "output_type": "stream",
     "text": [
      "[<neurotorch.gui.components.Job object at 0x00000225B2423E30>, <neurotorch.gui.components.Job object at 0x00000225B4CDB7A0>]\n"
     ]
    }
   ],
   "source": [
    "print(neuro.API.GUI().statusbar._jobs)"
   ]
  },
  {
   "cell_type": "code",
   "execution_count": 18,
   "metadata": {},
   "outputs": [],
   "source": [
    "neuro.API.GUI().statusbar._jobs[1].SetStopped(\"Stopped\")"
   ]
  },
  {
   "cell_type": "code",
   "execution_count": 32,
   "metadata": {},
   "outputs": [],
   "source": [
    "neuro.API.GUI().statusbar._jobs[0].steps = 10\n",
    "neuro.API.GUI().statusbar._jobs[0].showSteps = True"
   ]
  },
  {
   "cell_type": "code",
   "execution_count": 34,
   "metadata": {},
   "outputs": [],
   "source": [
    "neuro.API.GUI().statusbar._jobs[0].SetStopped()"
   ]
  },
  {
   "cell_type": "code",
   "execution_count": 1,
   "metadata": {},
   "outputs": [],
   "source": [
    "class TestClass:\n",
    "    def __init__(self):\n",
    "        self._prop = \"Hello World\"\n",
    "\n",
    "    @property\n",
    "    def Prop(self):\n",
    "        print(\"Abruf\")\n",
    "        return self._prop"
   ]
  },
  {
   "cell_type": "code",
   "execution_count": 2,
   "metadata": {},
   "outputs": [],
   "source": [
    "tc = TestClass()"
   ]
  },
  {
   "cell_type": "code",
   "execution_count": 15,
   "metadata": {},
   "outputs": [
    {
     "name": "stdout",
     "output_type": "stream",
     "text": [
      "Abruf\n"
     ]
    },
    {
     "ename": "AttributeError",
     "evalue": "'str' object has no attribute 'fget'",
     "output_type": "error",
     "traceback": [
      "\u001b[1;31m---------------------------------------------------------------------------\u001b[0m",
      "\u001b[1;31mAttributeError\u001b[0m                            Traceback (most recent call last)",
      "Cell \u001b[1;32mIn[15], line 1\u001b[0m\n\u001b[1;32m----> 1\u001b[0m \u001b[43mtc\u001b[49m\u001b[38;5;241;43m.\u001b[39;49m\u001b[43mProp\u001b[49m\u001b[38;5;241;43m.\u001b[39;49m\u001b[43mfget\u001b[49m\n",
      "\u001b[1;31mAttributeError\u001b[0m: 'str' object has no attribute 'fget'"
     ]
    }
   ],
   "source": []
  },
  {
   "cell_type": "code",
   "execution_count": 7,
   "metadata": {},
   "outputs": [
    {
     "name": "stdout",
     "output_type": "stream",
     "text": [
      "Hello World\n"
     ]
    }
   ],
   "source": [
    "print(c)"
   ]
  }
 ],
 "metadata": {
  "kernelspec": {
   "display_name": "Python 3",
   "language": "python",
   "name": "python3"
  },
  "language_info": {
   "codemirror_mode": {
    "name": "ipython",
    "version": 3
   },
   "file_extension": ".py",
   "mimetype": "text/x-python",
   "name": "python",
   "nbconvert_exporter": "python",
   "pygments_lexer": "ipython3",
   "version": "3.12.4"
  }
 },
 "nbformat": 4,
 "nbformat_minor": 2
}
