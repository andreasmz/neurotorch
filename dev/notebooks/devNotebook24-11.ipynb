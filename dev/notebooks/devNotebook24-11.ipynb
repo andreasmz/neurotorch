{
 "cells": [
  {
   "cell_type": "markdown",
   "metadata": {},
   "source": [
    "## Dev Notebook 2024-11"
   ]
  },
  {
   "cell_type": "code",
   "execution_count": null,
   "metadata": {},
   "outputs": [],
   "source": [
    "import matplotlib.pyplot as plt\n",
    "from scipy import ndimage as ndi\n",
    "from skimage.feature import peak_local_max\n",
    "from skimage.segmentation import expand_labels\n",
    "from skimage.measure import label\n",
    "import skimage\n",
    "import numpy as np\n",
    "import os,sys "
   ]
  },
  {
   "cell_type": "code",
   "execution_count": null,
   "metadata": {},
   "outputs": [],
   "source": [
    "path = os.path.abspath(os.path.join(os.path.join(os.path.abspath(\"\"), os.pardir), os.pardir))\n",
    "print(path)\n",
    "sys.path.insert(1,path)\n",
    "import neurotorchmz\n",
    "from neurotorchmz.utils.image import ImgObj\n",
    "from neurotorchmz.utils.synapse_detection import *\n",
    "print(neurotorchmz.__version__)\n",
    "%matplotlib inline"
   ]
  },
  {
   "cell_type": "code",
   "execution_count": null,
   "metadata": {},
   "outputs": [],
   "source": [
    "neurotorchmz.Start_Background(neurotorchmz.Edition.NEUROTORCH_DEBUG)\n",
    "print(neurotorchmz.__version__)"
   ]
  },
  {
   "cell_type": "code",
   "execution_count": null,
   "metadata": {},
   "outputs": [],
   "source": [
    "imgObj = neurotorchmz.Get_API().ImageObject\n",
    "diffMax = imgObj.imgDiffView(ImgObj.SPATIAL).Max\n",
    "\n",
    "plt.imshow(imgObj.imgView(ImgObj.SPATIAL).Mean)\n",
    "plt.show()\n",
    "plt.imshow(diffMax)\n",
    "plt.show()"
   ]
  },
  {
   "cell_type": "code",
   "execution_count": null,
   "metadata": {},
   "outputs": [],
   "source": [
    "image_max = ndi.maximum_filter(diffMax, size=20, mode=\"constant\")\n",
    "plt.imshow(image_max)"
   ]
  },
  {
   "cell_type": "code",
   "execution_count": null,
   "metadata": {},
   "outputs": [],
   "source": [
    "image_max_th = (image_max > 90) * image_max\n",
    "plt.imshow(image_max_th)"
   ]
  },
  {
   "cell_type": "code",
   "execution_count": null,
   "metadata": {},
   "outputs": [],
   "source": [
    "maxima_mask = image_max_th == diffMax\n",
    "maxima = np.where(maxima_mask)\n",
    "print(maxima)"
   ]
  },
  {
   "cell_type": "code",
   "execution_count": null,
   "metadata": {},
   "outputs": [],
   "source": [
    "labeledImage = label(maxima_mask)\n",
    "print(labeledImage)"
   ]
  },
  {
   "cell_type": "code",
   "execution_count": null,
   "metadata": {},
   "outputs": [],
   "source": [
    "plt.imshow(diffMax)\n",
    "plt.scatter(maxima[1], maxima[0], marker=\"x\", c=\"orange\")"
   ]
  },
  {
   "cell_type": "code",
   "execution_count": null,
   "metadata": {},
   "outputs": [],
   "source": [
    "rois: list[ISynapseROI] = []\n",
    "for i in range(len(maxima[0])):\n",
    "    x, y = maxima[1][i], maxima[0][i]\n",
    "    rois.append(CircularSynapseROI().SetLocation(x, y).SetRadius(6))\n",
    "synapses = SingleframeSynapse.ROIsToSynapses(rois)\n",
    "neurotorchmz.Get_API().SetDetectionResult(synapses)"
   ]
  },
  {
   "cell_type": "code",
   "execution_count": null,
   "metadata": {},
   "outputs": [],
   "source": [
    "import neurotorchmz.gui\n",
    "import neurotorchmz.gui.tab3\n",
    "\n",
    "\n",
    "gui = neurotorchmz.Get_API().gui\n",
    "\n",
    "tab3: neurotorchmz.gui.tab3.Tab3 = gui.tabs[\"Tab3\"]\n",
    "tab3.detectionResult.modified = False\n",
    "tab3.detectionResult.SetISynapses(synapses)\n",
    "tab3.Invalidate_ROIs()"
   ]
  },
  {
   "cell_type": "markdown",
   "metadata": {},
   "source": [
    "### Thresholding Tests"
   ]
  },
  {
   "cell_type": "code",
   "execution_count": null,
   "metadata": {},
   "outputs": [],
   "source": [
    "peaks = peak_local_max(diffMax, min_distance=20, threshold_abs=90)\n",
    "plt.imshow(diffMax)\n",
    "plt.scatter(peaks[:, 1], peaks[:, 0], marker=\"x\", c=\"orange\")"
   ]
  },
  {
   "cell_type": "code",
   "execution_count": null,
   "metadata": {},
   "outputs": [],
   "source": [
    "imgDiff_th = (diffMax >= 50)\n",
    "plt.imshow(imgDiff_th)"
   ]
  },
  {
   "cell_type": "code",
   "execution_count": null,
   "metadata": {},
   "outputs": [],
   "source": [
    "expanded = expand_labels(labeledImage, distance=12)\n",
    "plt.imshow(expanded)"
   ]
  },
  {
   "cell_type": "code",
   "execution_count": null,
   "metadata": {},
   "outputs": [],
   "source": [
    "expanded_th = expanded * (imgDiff_th != 0)\n",
    "plt.imshow(expanded_th)\n",
    "plt.show()\n",
    "regprops = skimage.measure.regionprops(expanded_th, intensity_image=diffMax)\n",
    "print(regprops)"
   ]
  },
  {
   "cell_type": "code",
   "execution_count": null,
   "metadata": {},
   "outputs": [],
   "source": [
    "plt.imshow(regprops[20].image_filled)"
   ]
  },
  {
   "cell_type": "code",
   "execution_count": null,
   "metadata": {},
   "outputs": [],
   "source": [
    "footprint = np.full(shape=(5,5), fill_value=True)\n",
    "print(footprint)\n",
    "\n",
    "local_max = skimage.morphology.local_maxima(diffMax, footprint=footprint)\n",
    "plt.imshow(local_max)"
   ]
  },
  {
   "cell_type": "code",
   "execution_count": null,
   "metadata": {},
   "outputs": [],
   "source": [
    "threshold = 60\n",
    "image_th = diffMax >= threshold\n",
    "image_th_labeled = label(image_th, connectivity=1)\n",
    "print(\"TH Labels\", np.max(image_th_labeled))\n",
    "\n",
    "labeled_maxima = label(maxima_mask)\n",
    "expanded_maxima = expand_labels(labeled_maxima, distance=12)\n",
    "\n",
    "labels = []\n",
    "for i in range(len(maxima[0])):\n",
    "    x, y = maxima[1][i], maxima[0][i]\n",
    "    label_th = image_th_labeled[y,x]\n",
    "    labels.append(label_th)\n",
    "\n",
    "for l in labels:\n",
    "    image_th_labeled[image_th_labeled == l] = -1\n",
    "\n",
    "image_final = image_th_labeled == -1\n",
    "labeled_final = label(image_final)\n",
    "\n",
    "\n",
    "plt.imshow(image_final)\n",
    "#plt.scatter(maxima[1], maxima[0], marker=\"x\", c=\"orange\")\n",
    "plt.show()"
   ]
  },
  {
   "cell_type": "code",
   "execution_count": null,
   "metadata": {},
   "outputs": [],
   "source": [
    "regprops = skimage.measure.regionprops(labeled_final, intensity_image=diffMax)"
   ]
  },
  {
   "cell_type": "code",
   "execution_count": null,
   "metadata": {},
   "outputs": [],
   "source": [
    "regprops[0]"
   ]
  },
  {
   "cell_type": "code",
   "execution_count": null,
   "metadata": {},
   "outputs": [],
   "source": [
    "plt.imshow(np.pad(regprops[0].image, 1, mode=\"constant\", constant_values=0))"
   ]
  },
  {
   "cell_type": "code",
   "execution_count": null,
   "metadata": {},
   "outputs": [],
   "source": [
    "rois: list[ISynapseROI] = []\n",
    "\n",
    "for r in regprops:\n",
    "    if r.area > 20:\n",
    "        y, x = r.centroid_weighted\n",
    "        x, y = int(x), int(y)\n",
    "        rois.append(CircularSynapseROI().SetLocation(x, y).SetRadius(6))\n",
    "\n",
    "synapses = SingleframeSynapse.ROIsToSynapses(rois)\n",
    "neurotorchmz.Get_API().SetDetectionResult(synapses)"
   ]
  },
  {
   "cell_type": "code",
   "execution_count": null,
   "metadata": {},
   "outputs": [],
   "source": [
    "tab3 = neurotorchmz.Get_API().GUI.tabs[\"Tab3\"]\n",
    "detect = tab3.detectionAlgorithm"
   ]
  },
  {
   "cell_type": "code",
   "execution_count": null,
   "metadata": {},
   "outputs": [],
   "source": [
    "print(detect.maxima)"
   ]
  },
  {
   "cell_type": "code",
   "execution_count": null,
   "metadata": {},
   "outputs": [],
   "source": [
    "plt.imshow(tab3.detectionAlgorithm.imgMaximumFiltered)\n",
    "#plt.scatter(tab3.detectionAlgorithm.maxima[1], tab3.detectionAlgorithm.maxima[0], marker=\"x\", c=\"orange\")\n",
    "plt.scatter(tab3.detectionAlgorithm.maxima[:, 1], tab3.detectionAlgorithm.maxima[:, 0], marker=\"x\", c=\"orange\")\n"
   ]
  },
  {
   "cell_type": "code",
   "execution_count": null,
   "metadata": {},
   "outputs": [],
   "source": [
    "for region in detect.region_props:\n",
    "    plt.imshow(region.image_filled)\n",
    "    plt.show()"
   ]
  },
  {
   "cell_type": "code",
   "execution_count": null,
   "metadata": {},
   "outputs": [],
   "source": [
    "plt.imshow(tab3.detectionAlgorithm.maxima_labeled_expanded)"
   ]
  },
  {
   "cell_type": "code",
   "execution_count": null,
   "metadata": {},
   "outputs": [],
   "source": [
    "plt.imshow(detect.imgThresholded_labeled)"
   ]
  },
  {
   "cell_type": "code",
   "execution_count": null,
   "metadata": {},
   "outputs": [],
   "source": [
    "print(detect._labels)"
   ]
  },
  {
   "cell_type": "code",
   "execution_count": null,
   "metadata": {},
   "outputs": [],
   "source": [
    "plt.imshow(detect.labeledImage)"
   ]
  },
  {
   "cell_type": "markdown",
   "metadata": {},
   "source": [
    "### ImageJ"
   ]
  },
  {
   "cell_type": "code",
   "execution_count": null,
   "metadata": {},
   "outputs": [],
   "source": [
    "aIP = neurotorchmz.API.GUI.ijH._activeImagePlus"
   ]
  },
  {
   "cell_type": "code",
   "execution_count": null,
   "metadata": {},
   "outputs": [],
   "source": [
    "fI = aIP.getFileInfo()"
   ]
  },
  {
   "cell_type": "code",
   "execution_count": null,
   "metadata": {},
   "outputs": [],
   "source": [
    "ip = aIP.get\n",
    "ip."
   ]
  },
  {
   "cell_type": "code",
   "execution_count": null,
   "metadata": {},
   "outputs": [],
   "source": [
    "path = os.path.abspath(os.path.join(os.path.join(os.path.abspath(\"\"), os.pardir), os.pardir))\n",
    "print(path)\n",
    "sys.path.insert(1,path)\n",
    "import neurotorchmz"
   ]
  },
  {
   "cell_type": "code",
   "execution_count": null,
   "metadata": {},
   "outputs": [],
   "source": [
    "for k in sys.modules.keys():\n",
    "    if \"neurotorch\" in k:\n",
    "        print(k)"
   ]
  },
  {
   "cell_type": "code",
   "execution_count": null,
   "metadata": {},
   "outputs": [],
   "source": [
    "neurotorchmz.API.OpenFile(path=r\"D:\\Eigene Datein\\Programmieren\\PYTHON\\AG Heine Hiwi\\Daten\\+40118_CS1-2_37a+47_iGlu_denoised.tif\", waitCompletion=True)"
   ]
  },
  {
   "cell_type": "code",
   "execution_count": null,
   "metadata": {},
   "outputs": [],
   "source": [
    "neurotorchmz.API.AutoDetect(waitCompletion=True)"
   ]
  },
  {
   "cell_type": "code",
   "execution_count": null,
   "metadata": {},
   "outputs": [],
   "source": [
    "neurotorchmz.API.ExportAsCSV()"
   ]
  }
 ],
 "metadata": {
  "kernelspec": {
   "display_name": "neurotorch",
   "language": "python",
   "name": "python3"
  },
  "language_info": {
   "codemirror_mode": {
    "name": "ipython",
    "version": 3
   },
   "file_extension": ".py",
   "mimetype": "text/x-python",
   "name": "python",
   "nbconvert_exporter": "python",
   "pygments_lexer": "ipython3",
   "version": "3.12.7"
  }
 },
 "nbformat": 4,
 "nbformat_minor": 2
}
